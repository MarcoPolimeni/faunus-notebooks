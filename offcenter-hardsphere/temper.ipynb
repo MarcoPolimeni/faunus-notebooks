{
 "cells": [
  {
   "cell_type": "markdown",
   "metadata": {},
   "source": [
    "# Hard-sphere ionic fluid with off center charges\n",
    "\n",
    "This will simulate the above using parallel tempering Metropolis Monte Carlo where the dielectric constant is varied in the different replica, communicating via MPI.\n",
    "\n",
    "![alternate text](offcenter.png)"
   ]
  },
  {
   "cell_type": "code",
   "execution_count": null,
   "metadata": {
    "collapsed": false
   },
   "outputs": [],
   "source": [
    "from __future__ import division, unicode_literals, print_function\n",
    "import matplotlib as mpl\n",
    "import matplotlib.pyplot as plt\n",
    "%matplotlib inline\n",
    "import numpy as np, pandas as pd\n",
    "import os.path, os, sys, json\n",
    "plt.rcParams.update({'font.size': 16, 'figure.figsize': [8.0, 6.0]})\n",
    "try:\n",
    "    workdir\n",
    "except NameError:\n",
    "    workdir=%pwd\n",
    "else:\n",
    "    %cd $workdir"
   ]
  },
  {
   "cell_type": "code",
   "execution_count": null,
   "metadata": {
    "collapsed": false
   },
   "outputs": [],
   "source": [
    "%%bash -s \"$workdir\"\n",
    "cd \"$1\"\n",
    "if [ ! -d \"faunus/\" ]; then\n",
    "  git clone https://github.com/mlund/faunus.git\n",
    "  cd faunus\n",
    "  git checkout 8eeef15b95e8fcabc85539a78153eb3f7d930874\n",
    "else\n",
    "  cd faunus\n",
    "fi\n",
    "\n",
    "# if different, copy custom temper.cpp into faunus\n",
    "if ! cmp ../temper.cpp src/examples/temper.cpp >/dev/null 2>&1\n",
    "then\n",
    "    cp ../temper.cpp src/examples/\n",
    "fi\n",
    "\n",
    "CXX=clang++ CC=clang cmake . -DCMAKE_BUILD_TYPE=Release -DENABLE_APPROXMATH=on -DENABLE_MPI=on &>/dev/null\n",
    "make example_temper -j4\n",
    "%cd .."
   ]
  },
  {
   "cell_type": "markdown",
   "metadata": {},
   "source": [
    "### Create cations and anions\n",
    "Each consist of a hard-sphere and an off-center, point charge and are in Faunus treated as _molecules_."
   ]
  },
  {
   "cell_type": "code",
   "execution_count": null,
   "metadata": {
    "collapsed": false,
    "scrolled": true
   },
   "outputs": [],
   "source": [
    "b=1.75     # center-charge distance\n",
    "radius=2.5 # hard-sphere radius\n",
    "with open('cation.aam', 'w+') as f:\n",
    "    f.writelines(\n",
    "        ['2\\n',\n",
    "         'HS 1   0.0 0.0 0.0  0    1000   '+str(radius)+'\\n',\n",
    "         'POS 2  0.0 0.0 '+str(b)+' 1.0  0.01   0.0\\n'])\n",
    "    \n",
    "with open('anion.aam', 'w+') as f:\n",
    "    f.writelines(\n",
    "        ['2\\n',\n",
    "         'HS 1   0.0 0.0 0.0  0    1000   '+str(radius)+'\\n',\n",
    "         'NEG 2  0.0 0.0 '+str(b)+' -1.0  0.01   0.0\\n'])\n",
    "f.close()"
   ]
  },
  {
   "cell_type": "code",
   "execution_count": null,
   "metadata": {
    "collapsed": false
   },
   "outputs": [],
   "source": [
    "def mkinput(mpirank):\n",
    "    \"\"\" function for creating a JSON input file for Faunus \"\"\"\n",
    "    js = {\n",
    "        \"atomlist\" : {\n",
    "            \"HS\" : { \"dp\":0, \"q\":0 },\n",
    "            \"NEG\" : { \"dp\":0, \"q\":-1 },\n",
    "            \"POS\" : { \"dp\":0, \"q\":1 }\n",
    "        },\n",
    "        \"moleculelist\" : {\n",
    "            \"cations\" : { \"structure\":\"cation.aam\", \"Ninit\": N, \"insdir\":\"1 1 1\" },\n",
    "            \"anions\" : { \"structure\":\"anion.aam\", \"Ninit\": N, \"insdir\":\"1 1 1\" }\n",
    "        },\n",
    "        \"energy\" : {\n",
    "            \"nonbonded\" : {\n",
    "                \"coulomb\" : { \"epsr\": epsr, \"cutoff\": 0.5*box }\n",
    "             }\n",
    "        },\n",
    "        \"moves\" : {\n",
    "            \"moltransrot\" : {\n",
    "                \"cations\" : { \"dp\":0.5, \"dprot\":0.5, \"dir\":\"1 1 1\", \"permol\":True }, \n",
    "                \"anions\"  : { \"dp\":0.5, \"dprot\":0.5, \"dir\":\"1 1 1\", \"permol\":True } \n",
    "            },\n",
    "            \"temper\" : { \"format\":\"XYZ\" }\n",
    "        },\n",
    "        \"system\" : {\n",
    "            \"temperature\":298,\n",
    "            \"cuboid\" : { \"len\" : box },\n",
    "            \"mcloop\" : { \"macro\":macro, \"micro\":micro }\n",
    "        }\n",
    "    }\n",
    "\n",
    "    with open('mpi'+str(mpirank)+'.temper.json', 'w+') as f:\n",
    "        f.write(json.dumps(js, indent=4))"
   ]
  },
  {
   "cell_type": "markdown",
   "metadata": {},
   "source": [
    "### Run simulation\n",
    "This will set the dielectric constants for each replica, denoted by a MPI _rank_ or process. Tempering moves are attempted after each _macro_ loop, while ion translation and rotation are attempting at every _micro_ loop.\n",
    "\n",
    "#### Initial run\n",
    "This is a hard-sphere system and it may take a while for all the randomly placed particles to exit overlapping configurations. In the mean time, infinite energies may be observed, but be patient.\n",
    "\n",
    "#### Continuation runs\n",
    "After each run, Faunus will save _state_ files with the final configuration for each replica. The file names are _mpi0.state_, _mpi1.state_ etc. and if present these will be loaded then re-running the simulation. To start from new, random configurations, simply delete these."
   ]
  },
  {
   "cell_type": "code",
   "execution_count": null,
   "metadata": {
    "collapsed": false
   },
   "outputs": [],
   "source": [
    "box=47.5   # cubic box side length\n",
    "epsr=2     # dielectric cont.\n",
    "macro=10   # number of macro loops\n",
    "micro=10   # number of micro loops\n",
    "N=400      # number of salt pairs\n",
    "\n",
    "proclist=[0, 1, 2, 3]\n",
    "epsrlist=[2, 3, 4, 5]\n",
    "\n",
    "for i in proclist:\n",
    "    epsr = epsrlist[i]\n",
    "    mkinput(i)\n",
    "    \n",
    "!mpirun -np 4 ./faunus/src/examples/temper"
   ]
  },
  {
   "cell_type": "markdown",
   "metadata": {},
   "source": [
    "### Potential of mean force"
   ]
  },
  {
   "cell_type": "code",
   "execution_count": null,
   "metadata": {
    "collapsed": false
   },
   "outputs": [],
   "source": [
    "for i in proclist:\n",
    "    epsr = epsrlist[i]\n",
    "    \n",
    "    # load g(r) from disk\n",
    "    r, g  = np.loadtxt('mpi'+str(i)+'.hs-hs.rdf', unpack=True)\n",
    "    g[-1] = 2*g[-1] # correct for edge effects when binning\n",
    "    \n",
    "    # g(r) -> w(r) and shift to zero at long separations\n",
    "    w = -np.log( g / r**2 )\n",
    "    c = w[ r>23 ].mean()\n",
    "    \n",
    "    plt.plot(r,w-c, label=r'$\\epsilon_r$='+str(epsr), lw=2)\n",
    "    plt.xlabel(r'$r$/Å')\n",
    "    plt.ylabel(r'$\\beta w(r)+const$')\n",
    "    plt.legend(loc=0, frameon=False)\n",
    "    plt.title(r'$d=$'+str(2*radius)+' Å , $b=$'+str(b)+r' Å, $N=$'+str(N))"
   ]
  },
  {
   "cell_type": "code",
   "execution_count": null,
   "metadata": {
    "collapsed": true
   },
   "outputs": [],
   "source": []
  }
 ],
 "metadata": {
  "kernelspec": {
   "display_name": "Python 2",
   "language": "python",
   "name": "python2"
  },
  "language_info": {
   "codemirror_mode": {
    "name": "ipython",
    "version": 2
   },
   "file_extension": ".py",
   "mimetype": "text/x-python",
   "name": "python",
   "nbconvert_exporter": "python",
   "pygments_lexer": "ipython2",
   "version": "2.7.11"
  }
 },
 "nbformat": 4,
 "nbformat_minor": 0
}
