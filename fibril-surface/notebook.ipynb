{
 "cells": [
  {
   "cell_type": "markdown",
   "metadata": {},
   "source": [
    "# SI: Anomalous Fibril Length Dependence on Amyloid Adsorption to Charged Interfaces\n",
    "\n",
    "_Giulio Tesei, Erik Helstrand, Sara Linse, Emma Sparr, Robert Vacha, Mikael Lund_\n",
    "\n",
    "### System Requirements\n",
    "This Jupyter Notebook was originally run in MacOS 10.11 with `GCC 4.8`, `Python2`, `matplotlib`, `pandas` within the Anaconda environment. Contemporary Linux distributions such as Ubuntu 14.04 should work as well."
   ]
  },
  {
   "cell_type": "markdown",
   "metadata": {},
   "source": [
    "### Download Faunus; Go to past version; Build custom executable\n",
    "\n",
    "To simulate the interaction of rigid fibrils with a charged, planar surface we use a custom Metropolis Monte Carlo (MC) program build within the [Faunus framework](http://github.com/mlund/faunus.git). The sections below will fetch the complete faunus project and compile the program."
   ]
  },
  {
   "cell_type": "code",
   "execution_count": null,
   "metadata": {
    "collapsed": false
   },
   "outputs": [],
   "source": [
    "from __future__ import division, unicode_literals, print_function\n",
    "import matplotlib as mpl\n",
    "import matplotlib.pyplot as plt\n",
    "%matplotlib inline\n",
    "import numpy as np, pandas as pd\n",
    "import os.path, os, sys, json\n",
    "plt.rcParams.update({'font.size': 16, 'figure.figsize': [8.0, 6.0]})\n",
    "try:\n",
    "    workdir\n",
    "except NameError:\n",
    "    workdir=%pwd\n",
    "else:\n",
    "    %cd $workdir"
   ]
  },
  {
   "cell_type": "code",
   "execution_count": null,
   "metadata": {
    "collapsed": false
   },
   "outputs": [],
   "source": [
    "%%bash -s \"$workdir\"\n",
    "cd $1\n",
    "if [ ! -d \"faunus/\" ]; then\n",
    "  git clone https://github.com/mlund/faunus.git\n",
    "  cd faunus\n",
    "  git checkout dfdddf3\n",
    "else\n",
    "  cd faunus\n",
    "fi\n",
    "CXX=clang++ CC=clang cmake . -DCMAKE_BUILD_TYPE=Release -DENABLE_APPROXMATH=on -DMYPLAYGROUND=`pwd`/../mc/ &>/dev/null\n",
    "make r2s -j4"
   ]
  },
  {
   "cell_type": "markdown",
   "metadata": {},
   "source": [
    "### Create Input and run MC simulation"
   ]
  },
  {
   "cell_type": "code",
   "execution_count": null,
   "metadata": {
    "collapsed": false
   },
   "outputs": [],
   "source": [
    "%cd $workdir\n",
    "js = {\n",
    "  \"processes\" :\n",
    "  {\n",
    "    \"H-Asp\" : { \"bound\":\"HASP\" , \"free\":\"ASP\" , \"pKd\":4.0  , \"pX\":4.1 },\n",
    "    \"H-Ctr\" : { \"bound\":\"HCTR\" , \"free\":\"CTR\" , \"pKd\":2.6  , \"pX\":4.1 },\n",
    "    \"H-Glu\" : { \"bound\":\"HGLU\" , \"free\":\"GLU\" , \"pKd\":4.4  , \"pX\":4.1 },\n",
    "    \"H-His\" : { \"bound\":\"HHIS\" , \"free\":\"HIS\" , \"pKd\":6.3  , \"pX\":4.1 },\n",
    "    \"H-Arg\" : { \"bound\":\"HARG\" , \"free\":\"ARG\" , \"pKd\":12.0 , \"pX\":4.1 },\n",
    "    \"H-Ntr\" : { \"bound\":\"HNTR\" , \"free\":\"NTR\" , \"pKd\":7.5  , \"pX\":4.1 },\n",
    "    \"H-Cys\" : { \"bound\":\"HCYS\" , \"free\":\"CYS\" , \"pKd\":10.8 , \"pX\":4.1 },\n",
    "    \"H-Tyr\" : { \"bound\":\"HTYR\" , \"free\":\"TYR\" , \"pKd\":9.6  , \"pX\":4.1 },\n",
    "    \"H-Lys\" : { \"bound\":\"HLYS\" , \"free\":\"LYS\" , \"pKd\":10.4 , \"pX\":4.1 }\n",
    "  },\n",
    "\n",
    "  \"atomlist\" :\n",
    "  {\n",
    "    \"Na\"   :  { \"q\": 1, \"r\":1.9, \"mw\":22.99 },\n",
    "    \"Cl\"   :  { \"q\":-1, \"r\":1.7, \"mw\":35.45 },\n",
    "    \"I\"    :  { \"q\":-1, \"r\":2.0, \"mw\":1 },\n",
    "    \"SCN\"  :  { \"q\":-1, \"r\":2.0, \"mw\":1 },\n",
    "    \"ASP\"  :  { \"q\":-1, \"r\":3.6, \"mw\":110 },\n",
    "    \"HASP\" :  { \"q\":0,  \"r\":3.6, \"mw\":110 },\n",
    "    \"LASP\" :  { \"q\":2,  \"r\":3.6, \"mw\":110 },\n",
    "    \"CTR\"  :  { \"q\":-1, \"r\":2.0, \"mw\":16 },\n",
    "    \"HCTR\" :  { \"q\":0,  \"r\":2.0, \"mw\":16 },\n",
    "    \"GLU\"  :  { \"q\":-1, \"r\":3.8, \"mw\":122 },\n",
    "    \"HGLU\" :  { \"q\":0,  \"r\":3.8, \"mw\":122 },\n",
    "    \"LGLU\" :  { \"q\":2,  \"r\":3.8, \"mw\":122 },\n",
    "    \"HIS\"  :  { \"q\":0,  \"r\":3.9, \"mw\":130 },\n",
    "    \"HHIS\" :  { \"q\":1,  \"r\":3.9, \"mw\":130 },\n",
    "    \"NTR\"  :  { \"q\":0,  \"r\":2.0, \"mw\":14 },\n",
    "    \"HNTR\" :  { \"q\":1,  \"r\":2.0, \"mw\":14 },\n",
    "    \"TYR\"  :  { \"q\":-1, \"r\":4.1, \"mw\":154 },\n",
    "    \"HTYR\" :  { \"q\":0,  \"r\":4.1, \"mw\":154 },\n",
    "    \"LYS\"  :  { \"q\":0,  \"r\":3.7, \"mw\":116 },\n",
    "    \"HLYS\" :  { \"q\":1,  \"r\":3.7, \"mw\":116 },\n",
    "    \"CYS\"  :  { \"q\":-1, \"r\":3.6, \"mw\":103 },\n",
    "    \"HCYS\" :  { \"q\":0,  \"r\":3.6, \"mw\":103 },\n",
    "    \"ARG\"  :  { \"q\":0,  \"r\":4.0, \"mw\":144 },\n",
    "    \"HARG\" :  { \"q\":1,  \"r\":4.0, \"mw\":144 },\n",
    "    \"ALA\"  :  { \"q\":0,  \"r\":3.1, \"mw\":66 },\n",
    "    \"ILE\"  :  { \"q\":0,  \"r\":3.6, \"mw\":102 },\n",
    "    \"LEU\"  :  { \"q\":0,  \"r\":3.6, \"mw\":102 },\n",
    "    \"MET\"  :  { \"q\":0,  \"r\":3.8, \"mw\":122 },\n",
    "    \"PHE\"  :  { \"q\":0,  \"r\":3.9, \"mw\":138 },\n",
    "    \"PRO\"  :  { \"q\":0,  \"r\":3.4, \"mw\":90 },\n",
    "    \"TRP\"  :  { \"q\":0,  \"r\":4.3, \"mw\":176 },\n",
    "    \"VAL\"  :  { \"q\":0,  \"r\":3.4, \"mw\":90 },\n",
    "    \"SER\"  :  { \"q\":0,  \"r\":3.3, \"mw\":82 },\n",
    "    \"THR\"  :  { \"q\":0,  \"r\":3.5, \"mw\":94 },\n",
    "    \"ASN\"  :  { \"q\":0,  \"r\":3.6, \"mw\":108 },\n",
    "    \"GLN\"  :  { \"q\":0,  \"r\":3.8, \"mw\":120 },\n",
    "    \"GLY\"  :  { \"q\":0,  \"r\":2.9, \"mw\":54 }\n",
    "  }\n",
    "}\n",
    "with open('mc/slitpolymer.json', 'w+') as f:\n",
    "    f.write(json.dumps(js, indent=4))\n",
    "\n",
    "def mkinput():\n",
    "    d = {\n",
    "        'atomlist':               '../slitpolymer.json',\n",
    "        'loop_macrosteps':        10,\n",
    "        'loop_microsteps':        micro,\n",
    "        'temperature':            298,     # Kelvin\n",
    "        'epsilon_r':              78.9,    # Water dielectric const\n",
    "        'dh_ionicstrength':       salt,    # mol/l\n",
    "        'gouychapman_qarea':      rho,     # unitless i.e. e*phi/kT\n",
    "        'gouychapman_linearize':  'yes',\n",
    "        'gouychapman_offset':     3,\n",
    "        'cuboid_len':             -1, # Box side length Angstrom\n",
    "        'cuboid_xlen':            2000,\n",
    "        'cuboid_ylen':            2000,\n",
    "        'cuboid_zlen':            500,\n",
    "        'transrot_transdp':       100,     # Molecular translation parameter\n",
    "        'transrot_rotdp':         6,      # Molecular rotation parameter\n",
    "        'oligomer':               '../orderedrod.aam',\n",
    "        'numpep':                 numpep\n",
    "    }\n",
    "    f = open('r2s.input', 'w')\n",
    "    for key,val in d.iteritems():\n",
    "        f.write('%-30s %s\\n' %(key, val))\n",
    "    f.close()\n",
    "\n",
    "%cd $workdir'/mc'\n",
    "micro=20000000\n",
    "for rho in [266]:\n",
    "    for salt in [0.06, 0.08, 0.1, 0.15, 0.2, 0.25, 0.27, 0.3, 1e10]:\n",
    "        for numpep in [2, 4, 8, 16, 32, 64, 128]:\n",
    "            pfx='__rho'+str(rho)+'-N'+str(numpep)+'-I'+str(salt)\n",
    "            if not os.path.isdir(pfx):\n",
    "                %mkdir -p $pfx \n",
    "                %cd $pfx\n",
    "                mkinput()\n",
    "                #!DYLD_LIBRARY_PATH=/Users/mikael/miniconda/lib ../r2s > out\n",
    "                %cd .."
   ]
  },
  {
   "cell_type": "markdown",
   "metadata": {
    "collapsed": false
   },
   "source": [
    "### Read all Distribution Functions and Calculate Surface Excess"
   ]
  },
  {
   "cell_type": "code",
   "execution_count": null,
   "metadata": {
    "collapsed": false
   },
   "outputs": [],
   "source": [
    "d = {}\n",
    "rho=266\n",
    "for salt in [0.06, 0.08, 0.1, 0.15, 0.2, 0.25, 0.27, 0.3, 1e10]:\n",
    "    d[salt] = {}\n",
    "    for numpep in [2, 4, 8, 16, 32, 64, 128]:\n",
    "        pfx='__rho'+str(rho)+'-N'+str(numpep)+'-I'+str(salt)\n",
    "        \n",
    "        distfile=pfx+'/cmdist.dat'\n",
    "        if os.path.isfile(distfile): \n",
    "        \n",
    "            r, P = np.loadtxt(distfile, unpack=True) # load data set\n",
    "            w = -np.log(P) # potential of mean force (PMF)\n",
    "        \n",
    "            # normalize such that w(r)->0 for large r\n",
    "            m = (r>200) & (r<220)\n",
    "            if len(w[m])>0:\n",
    "                w = w - w[m].mean()\n",
    "\n",
    "                # remove tail\n",
    "                w = w[r<200]\n",
    "                r = r[r<200]\n",
    "            \n",
    "                # integrate PMF to surface excess\n",
    "                gamma = np.trapz( np.expm1(-w), r  )\n",
    "        \n",
    "                d[salt][numpep] = [r, w, gamma]\n",
    "    \n",
    "    if len(d[salt])>0:\n",
    "        d[salt] = pd.Series(d[salt])\n",
    "\n",
    "data = pd.DataFrame(d)\n",
    "data = data.rename(columns={1e10: r'$\\infty$'})\n",
    "data"
   ]
  },
  {
   "cell_type": "markdown",
   "metadata": {},
   "source": [
    "### MC: Fibril-surface interaction free energy\n",
    "This will plot the PMF obtained from MC simulations at different fibril lenghts."
   ]
  },
  {
   "cell_type": "code",
   "execution_count": null,
   "metadata": {
    "collapsed": false
   },
   "outputs": [],
   "source": [
    "plt.rcParams.update({'font.size': 16, 'figure.figsize': [6.0, 5.0]})\n",
    "\n",
    "from scipy.signal import savgol_filter\n",
    "for N, d in data[0.25].iteritems():\n",
    "    if N in [2,8,16,64,128]:\n",
    "        if type(d)!=type(float()):\n",
    "            plt.plot(d[0], d[1], label='$N$='+str(N), lw=2)\n",
    "            #plt.plot(d[0], savgol_filter(d[1], 9, 2), lw=2)\n",
    "\n",
    "plt.legend(loc=0, frameon=False, fontsize='medium')\n",
    "plt.xlabel('Surface-Fibril Separation, $r$ (Å)')\n",
    "plt.ylabel(r'Free energy, $\\beta w(r)$')\n",
    "plt.ylim((-4,3))\n",
    "plt.savefig('mc_pmf.pdf', bbox_inches='tight')"
   ]
  },
  {
   "cell_type": "markdown",
   "metadata": {},
   "source": [
    "### MC: Surface excess at different salt concentrations and fibril lengths"
   ]
  },
  {
   "cell_type": "code",
   "execution_count": null,
   "metadata": {
    "collapsed": false
   },
   "outputs": [],
   "source": [
    "def f(x):\n",
    "    if type(x)!=type(float()):\n",
    "        return x[2]\n",
    "    else:\n",
    "        return x\n",
    "\n",
    "plt.plot( [0,128], [0,0], 'k--')\n",
    "\n",
    "for salt, d in data.iteritems():\n",
    "    if salt>=0.1 and salt!=0.27:\n",
    "        _d = d.apply(f)\n",
    "        plt.plot(_d.keys(), _d.get_values(), label=salt, linestyle='-', marker='o', lw=2, ms=6)\n",
    "\n",
    "plt.legend(loc=0,frameon=False, fontsize='medium', title=r'$c_{s}$ (mol/l)')\n",
    "plt.xlabel(r'Number of monomers, $N=L/l_m$')\n",
    "plt.ylabel(r'Surface excess, $\\Gamma/\\rho$ (Å)')\n",
    "plt.xscale('log')\n",
    "plt.ylim((-80,100))\n",
    "plt.xlim(1, 1000)\n",
    "plt.savefig('mc_excess.pdf', bbox_inches='tight')"
   ]
  },
  {
   "cell_type": "markdown",
   "metadata": {},
   "source": [
    "### Line Segment Model\n",
    "\n",
    "Here we calculate the surface excess using a simplified model, considering Gouy-Chapman electrostatics and the excluded volume of a rod approaching a planar surface."
   ]
  },
  {
   "cell_type": "code",
   "execution_count": null,
   "metadata": {
    "collapsed": false
   },
   "outputs": [],
   "source": [
    "from math import asinh, sqrt, pi\n",
    "s=10     # closest contact (Å)\n",
    "lm=5    # monomer length (Å)\n",
    "zm=2    # monomer charge (e)\n",
    "lB=7.1  # Bjerrum length (Å)\n",
    "NA=6.022e23 # Avogadros number (1/mol)\n",
    "\n",
    "def TdS(r, L):\n",
    "    \"\"\" rod-2-surface excluded volume contribution to free energy (kT) \"\"\"\n",
    "    sel = r<0.5*L\n",
    "    w   = -np.log(2*r[sel]/L)\n",
    "    return np.concatenate((w, 0*r[~sel]))\n",
    "\n",
    "for rho in [266]:\n",
    "    for N in [2,4,8,16,32,64,128]:# number of monomers\n",
    "        for salt in [0.1]:        # ionic strength (mol/l)\n",
    "            L = N*lm              # rod length (Å)\n",
    "            z = zm*N              # rod charge (e)\n",
    "            lD = 3.04/sqrt(salt)  # Debye length (Å)\n",
    "            phi = 2*asinh( (1/rho)*sqrt(pi*lB/(2*salt*NA*1e-27)) ) # surf. potential (kT/e)\n",
    "            r = np.arange(s, 400, 0.5)\n",
    "            w = -z * phi * np.exp(-(r+s)/lD) + TdS(r,L)\n",
    "            gamma = np.trapz( np.expm1(-w), r  )\n",
    "            plt.plot(r, w, label=r'$N=$'+str(N))\n",
    "            \n",
    "plt.ylim((-6,3))\n",
    "plt.legend(loc=0,frameon=False, fontsize='medium')\n",
    "plt.xlabel('Surface-Fibril Separation, $r$ (Å)')\n",
    "plt.ylabel(r'Free energy, $\\beta w(r)$')"
   ]
  },
  {
   "cell_type": "code",
   "execution_count": null,
   "metadata": {
    "collapsed": false
   },
   "outputs": [],
   "source": [
    "from pylab import meshgrid,cm,imshow,contour,clabel,colorbar,axis,title,show\n",
    "from scipy.integrate import simps\n",
    "vmin=-20\n",
    "vmax=30\n",
    "\n",
    "x = np.linspace(0.1, 0.3, 100) # salt concentration\n",
    "y = np.linspace(0.001, 80, 100) # number of monomers\n",
    "Z = np.ndarray(shape=(y.size,x.size))\n",
    "rho = 266\n",
    "\n",
    "for N in y:# number of monomers\n",
    "    for salt in x:        # ionic strength (mol/l)\n",
    "         L = N*lm              # rod length (Å)\n",
    "         z = zm*N              # rod charge (e)\n",
    "         lD = 3.04/sqrt(salt)  # Debye length (Å)\n",
    "         phi = 2*asinh( (1/rho)*sqrt(pi*lB/(2*salt*NA*1e-27)) ) # surf. potential (kT/e)\n",
    "         r = np.arange(s, 1000, 0.2)\n",
    "         w = -z * phi * np.exp(-(r+s)/lD) + TdS(r,L)\n",
    "         exc = np.trapz( np.expm1(-w), r  )\n",
    "         Z[y.tolist().index(N)][x.tolist().index(salt)]=exc\n",
    "\n",
    "im = imshow(Z,cmap=cm.BuPu, extent=[x.min(), x.max(), y.min(), y.max()],\n",
    "            origin='lower', aspect='auto', vmin=vmin, vmax=vmax) \n",
    "\n",
    "# contour lines\n",
    "cset = contour(x,y,Z,(0, 4),linewidths=4, cmap=cm.BuPu_r)\n",
    "manual_locations = [(0.24, 1),(0.28, 2)]\n",
    "clabel(cset,inline=True,fmt='%1.1f',fontsize=16,manual=manual_locations)\n",
    "\n",
    "# labels\n",
    "colorbar(im,label=r'Surface excess, $\\Gamma/\\rho$ (Å)') # adding the colorbar on the right\n",
    "plt.ylabel(r'Number of monomers, $N$')\n",
    "plt.xlabel(r'Salt concentration, $c_s$ (mol/l)')\n",
    "plt.savefig('linesegment_excess.pdf', bbox_inches='tight')\n",
    "plt.show()"
   ]
  },
  {
   "cell_type": "code",
   "execution_count": null,
   "metadata": {
    "collapsed": true
   },
   "outputs": [],
   "source": []
  }
 ],
 "metadata": {
  "kernelspec": {
   "display_name": "Python 2",
   "language": "python",
   "name": "python2"
  },
  "language_info": {
   "codemirror_mode": {
    "name": "ipython",
    "version": 2
   },
   "file_extension": ".py",
   "mimetype": "text/x-python",
   "name": "python",
   "nbconvert_exporter": "python",
   "pygments_lexer": "ipython2",
   "version": "2.7.11"
  }
 },
 "nbformat": 4,
 "nbformat_minor": 0
}
