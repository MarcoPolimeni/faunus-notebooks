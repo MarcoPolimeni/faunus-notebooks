{
 "cells": [
  {
   "cell_type": "markdown",
   "metadata": {},
   "source": [
    "# Titrating, planar surface in explicit salt\n",
    "\n",
    "_Mikael Lund_\n",
    "\n",
    "### System Requirements\n",
    "This Jupyter Notebook was originally run in MacOS 10.11 with `GCC 4.8`, `Python2`, `matplotlib`, `pandas` within the Anaconda environment. Contemporary Linux distributions such as Ubuntu 14.04 should work as well."
   ]
  },
  {
   "cell_type": "markdown",
   "metadata": {},
   "source": [
    "### Download and build Faunus\n",
    "\n",
    "Wwe use a custom Metropolis Monte Carlo (MC) program build within the [Faunus framework](http://github.com/mlund/faunus.git). The sections below will fetch the complete faunus project and compile the program."
   ]
  },
  {
   "cell_type": "code",
   "execution_count": 13,
   "metadata": {
    "collapsed": false
   },
   "outputs": [
    {
     "name": "stdout",
     "output_type": "stream",
     "text": [
      "/Users/mikael/github/faunus-notebooks/surface-titrating\n"
     ]
    }
   ],
   "source": [
    "from __future__ import division, unicode_literals, print_function\n",
    "import matplotlib as mpl\n",
    "import matplotlib.pyplot as plt\n",
    "%matplotlib inline\n",
    "import numpy as np, pandas as pd\n",
    "import os.path, os, sys, json\n",
    "plt.rcParams.update({'font.size': 16, 'figure.figsize': [8.0, 6.0]})\n",
    "try:\n",
    "    workdir\n",
    "except NameError:\n",
    "    workdir=%pwd\n",
    "else:\n",
    "    %cd $workdir"
   ]
  },
  {
   "cell_type": "code",
   "execution_count": 49,
   "metadata": {
    "collapsed": false
   },
   "outputs": [
    {
     "name": "stdout",
     "output_type": "stream",
     "text": [
      "/Users/mikael/github/faunus-notebooks/surface-titrating/faunus\n",
      "[ 36%] Built target xdrfile\n",
      "[ 81%] Built target libfaunus\n",
      "Scanning dependencies of target surf\n",
      "[ 90%] Building CXX object /Users/mikael/github/faunus-notebooks/surface-titrating/mc/CMakeFiles/surf.dir/surf.cpp.o\n",
      "[100%] Linking CXX executable surf\n",
      "[100%] Built target surf\n"
     ]
    }
   ],
   "source": [
    "%%bash -s \"$workdir\"\n",
    "cd $1\n",
    "if [ ! -d \"faunus/\" ]; then\n",
    "    echo 'fau_example(surf \"./\" surf.cpp)' > mc/CMakeLists.txt\n",
    "    git clone https://github.com/mlund/faunus.git\n",
    "    cd faunus\n",
    "    git checkout 90811c4\n",
    "else\n",
    "    cd faunus\n",
    "fi\n",
    "pwd\n",
    "CXX=clang++ CC=clang cmake . -DCMAKE_BUILD_TYPE=RelWithDebInfo -DENABLE_APPROXMATH=on -DMYPLAYGROUND=`pwd`/../mc &>/dev/null\n",
    "make surf -j4"
   ]
  },
  {
   "cell_type": "markdown",
   "metadata": {},
   "source": [
    "### Create Input and run MC simulation"
   ]
  },
  {
   "cell_type": "code",
   "execution_count": 56,
   "metadata": {
    "collapsed": false
   },
   "outputs": [
    {
     "name": "stdout",
     "output_type": "stream",
     "text": [
      "/Users/mikael/github/faunus-notebooks/surface-titrating/mc\n",
      "/Users/mikael/github/faunus-notebooks/surface-titrating/mc/pH7.0-I0.06\n",
      "# Reading process acid ... OK!\n",
      "Reading space state file 'state'. State file not found.\n",
      "# Reading process acid ... OK!\n",
      "\n",
      " .................\n",
      "  Atom Properties  \n",
      " *****************\n",
      "  Number of entries:       5\n",
      "  Element info:\n",
      "    unk   COO-  COOH  Cl    Na    \n",
      "\n",
      " ...............................\n",
      "  Simulation Space and Geometry  \n",
      " *******************************\n",
      "  Boundary                 Cuboid\n",
      "  Volume                   1e+06 Å³ = 1000 nm³ = 1e-21 liters\n",
      "  Sidelengths              100 100 100 (Å)\n",
      "  Scale directions         XYZ\n",
      "  Number of particles      60\n",
      "  Electroneutrality        Yes 0\n",
      "  System sanity check      Passed\n",
      "  Number of molecule types 2\n",
      "  Groups:\n",
      "    1     [0-19]           lipid       N/V = 2e-05  Å⁻³ = 33.2108 mM  \n",
      "    2     [20-59]          salt        N/V = 4e-05  Å⁻³ = 66.4216 mM  \n",
      "\n",
      " ...............................................\n",
      "  Energy: Nonbonded N² - Coulomb+Lennard-Jones  \n",
      " ***********************************************\n",
      "  Temperature              298.15 K\n",
      "  Dielectric constant      80\n",
      "  T∂ϵ/ϵ∂T                  -1.37149\n",
      "  Bjerrum length           7.0057 Å\n",
      "  ϵ(LJ)                    0.05 kT = 0.123949 kJ/mol\n",
      "\n",
      " ..................................\n",
      "  Energy: Equilibrium State Energy  \n",
      " **********************************\n",
      "  Number of sites          20\n",
      "  Processes:\n",
      "\n",
      "     AX <-> A         pKd      pX     pAX      pA       N     ⟨Z⟩\n",
      "  ----------------------------------------------------------------------\n",
      "   COOH <-> COO-     4.75       7      -0   -2.25      20\n",
      "\n",
      "  Steps:    1 / 200000      Macrosteps/min: 163     ETA: Wed Feb 24 12:28:11 2016\n",
      "  Steps:    2 / 400000      Macrosteps/min: 157     ETA: Wed Feb 24 12:28:12 2016\n",
      "  Steps:    3 / 600000      Macrosteps/min: 153     ETA: Wed Feb 24 12:28:11 2016\n",
      "  Steps:    4 / 800000      Macrosteps/min: 153     ETA: Wed Feb 24 12:28:11 2016\n",
      "  Steps:    5 / 1000000     Macrosteps/min: 153     ETA: Wed Feb 24 12:28:11 2016\n",
      "  Steps:    6 / 1200000     Macrosteps/min: 153     ETA: Wed Feb 24 12:28:11 2016\n",
      "  Steps:    7 / 1400000     Macrosteps/min: 152     ETA: Wed Feb 24 12:28:11 2016\n",
      "  Steps:    8 / 1600000     Macrosteps/min: 153     ETA: Wed Feb 24 12:28:11 2016\n",
      "  Steps:    9 / 1800000     Macrosteps/min: 153     ETA: Wed Feb 24 12:28:11 2016\n",
      "  Steps:   10 / 2000000     Macrosteps/min: 154     ETA: Wed Feb 24 12:28:12 2016\n",
      "Writing to file 'confout.pqr'. OK!\n",
      "Assertion failed: (i==base::operator[](i).id && \"Property out of sync\"), function operator[], file /Users/mikael/github/faunus-notebooks/surface-titrating/faunus/include/faunus/species.h, line 121.\n",
      "/Users/mikael/github/faunus-notebooks/surface-titrating/mc\n"
     ]
    }
   ],
   "source": [
    "def mkinput():\n",
    "    global pH, micro\n",
    "    js = {\n",
    "        \"processes\": {\n",
    "            \"acid\": { \"pKd\": 4.75, \"pX\": pH, \"bound\": \"COOH\", \"free\": \"COO-\" }\n",
    "            },\n",
    "\n",
    "         \"energy\": {\n",
    "             \"eqstate\": { \"processfile\": \"gctit.json\" },\n",
    "             \"nonbonded\": {\n",
    "                \"coulomb\": { \"epsr\": 80 },\n",
    "                \"ljsimple\": { \"eps\": 0.05 }\n",
    "                }\n",
    "            },\n",
    "\n",
    "         \"system\": {\n",
    "             \"temperature\": 298.15,\n",
    "             \"cuboid\": { \"len\": 100 },\n",
    "             \"mcloop\": { \"macro\": 10, \"micro\": micro }\n",
    "            },\n",
    "\n",
    "         \"moves\": {\n",
    "             \"gctit\"         : { \"molecule\": \"salt\", \"prob\": 0.01 },\n",
    "             \"atomtranslate\" : {\n",
    "                 \"lipid\": { \"prob\": 1.0, \"dp\": 100, \"dir\":\"1 1 0\" },\n",
    "                 \"salt\":  { \"prob\": 1.0, \"dp\": 100, \"dir\":\"1 1 1\" }\n",
    "                }\n",
    "            },\n",
    "\n",
    "         \"moleculelist\": {\n",
    "              \"lipid\": { \"Ninit\": 20, \"atomic\": True, \"atoms\": \"COOH\", \"insdir\": \"1 1 0\" },\n",
    "              \"salt\":  { \"Ninit\": 20, \"atomic\": True, \"atoms\": \"Na Cl\" }\n",
    "            },\n",
    "\n",
    "          \"atomlist\": {\n",
    "                \"Na\":   { \"q\": 1,  \"r\": 2, \"dp\": 50, \"activity\": salt },\n",
    "                \"Cl\":   { \"q\": -1, \"r\": 2, \"dp\": 50, \"activity\": salt },\n",
    "                \"COOH\": { \"q\": 0,  \"r\": 2, \"dp\": 20 },\n",
    "                \"COO-\": { \"q\": -1, \"r\": 2, \"dp\": 20 }\n",
    "                }\n",
    "          }\n",
    "\n",
    "    with open('surf.json', 'w+') as f:\n",
    "        f.write(json.dumps(js, indent=4))\n",
    "\n",
    "%cd $workdir'/mc'\n",
    "micro=200000\n",
    "for pH in [7.0]:\n",
    "    for salt in [0.06]:\n",
    "        for something in [1]:\n",
    "            pfx='pH'+str(pH)+'-I'+str(salt)\n",
    "            if True: #not os.path.isdir(pfx):\n",
    "                %mkdir -p $pfx \n",
    "                %cd $pfx\n",
    "                !rm -fR state\n",
    "                mkinput()\n",
    "                !../surf\n",
    "                %cd .."
   ]
  },
  {
   "cell_type": "markdown",
   "metadata": {
    "collapsed": false
   },
   "source": [
    "### Read all Distribution Functions and Calculate Surface Excess"
   ]
  },
  {
   "cell_type": "code",
   "execution_count": 4,
   "metadata": {
    "collapsed": false
   },
   "outputs": [
    {
     "name": "stderr",
     "output_type": "stream",
     "text": [
      "/Users/mikael/miniconda/lib/python2.7/site-packages/pandas/core/index.py:1122: UnicodeWarning: Unicode equal comparison failed to convert both arguments to Unicode - interpreting them as being unequal\n",
      "  return key in self._engine\n"
     ]
    },
    {
     "data": {
      "text/html": [
       "<div>\n",
       "<table border=\"1\" class=\"dataframe\">\n",
       "  <thead>\n",
       "    <tr style=\"text-align: right;\">\n",
       "      <th></th>\n",
       "      <th>0.06</th>\n",
       "      <th>0.08</th>\n",
       "      <th>0.1</th>\n",
       "      <th>0.15</th>\n",
       "      <th>0.2</th>\n",
       "      <th>0.25</th>\n",
       "      <th>0.27</th>\n",
       "      <th>0.3</th>\n",
       "      <th>$\\infty$</th>\n",
       "    </tr>\n",
       "  </thead>\n",
       "  <tbody>\n",
       "    <tr>\n",
       "      <th>2</th>\n",
       "      <td>[[7.0, 7.2, 7.4, 7.6, 7.8, 8.0, 8.2, 8.4, 8.6,...</td>\n",
       "      <td>[[7.0, 7.2, 7.4, 7.6, 7.8, 8.0, 8.2, 8.4, 8.6,...</td>\n",
       "      <td>[[7.0, 7.2, 7.4, 7.6, 7.8, 8.0, 8.2, 8.4, 8.6,...</td>\n",
       "      <td>[[7.0, 7.2, 7.4, 7.6, 7.8, 8.0, 8.2, 8.4, 8.6,...</td>\n",
       "      <td>[[7.0, 7.2, 7.4, 7.6, 7.8, 8.0, 8.2, 8.4, 8.6,...</td>\n",
       "      <td>[[7.0, 7.2, 7.4, 7.6, 7.8, 8.0, 8.2, 8.4, 8.6,...</td>\n",
       "      <td>[[7.0, 7.2, 7.4, 7.6, 7.8, 8.0, 8.2, 8.4, 8.6,...</td>\n",
       "      <td>[[7.0, 7.2, 7.4, 7.6, 7.8, 8.0, 8.2, 8.4, 8.6,...</td>\n",
       "      <td>[[7.0, 7.2, 7.4, 7.6, 7.8, 8.0, 8.2, 8.4, 8.6,...</td>\n",
       "    </tr>\n",
       "    <tr>\n",
       "      <th>4</th>\n",
       "      <td>[[9.2, 9.4, 9.6, 9.8, 10.0, 10.2, 10.4, 10.6, ...</td>\n",
       "      <td>[[9.4, 9.6, 9.8, 10.0, 10.2, 10.4, 10.6, 10.8,...</td>\n",
       "      <td>[[9.4, 9.6, 9.8, 10.0, 10.2, 10.4, 10.6, 10.8,...</td>\n",
       "      <td>[[9.4, 9.6, 9.8, 10.0, 10.2, 10.4, 10.6, 10.8,...</td>\n",
       "      <td>[[9.4, 9.6, 9.8, 10.0, 10.2, 10.4, 10.6, 10.8,...</td>\n",
       "      <td>[[9.2, 9.4, 9.6, 9.8, 10.0, 10.2, 10.4, 10.6, ...</td>\n",
       "      <td>[[9.4, 9.6, 9.8, 10.0, 10.2, 10.4, 10.6, 10.8,...</td>\n",
       "      <td>[[9.2, 9.4, 9.6, 9.8, 10.0, 10.2, 10.4, 10.6, ...</td>\n",
       "      <td>[[9.4, 9.6, 9.8, 10.0, 10.2, 10.4, 10.6, 10.8,...</td>\n",
       "    </tr>\n",
       "    <tr>\n",
       "      <th>8</th>\n",
       "      <td>[[13.4, 13.6, 13.8, 14.0, 14.2, 14.4, 14.6, 14...</td>\n",
       "      <td>[[13.4, 13.6, 13.8, 14.0, 14.2, 14.4, 14.6, 14...</td>\n",
       "      <td>[[13.4, 13.6, 13.8, 14.0, 14.2, 14.4, 14.6, 14...</td>\n",
       "      <td>[[13.4, 13.6, 13.8, 14.0, 14.2, 14.4, 14.6, 14...</td>\n",
       "      <td>[[13.4, 13.6, 13.8, 14.0, 14.2, 14.4, 14.6, 14...</td>\n",
       "      <td>[[13.4, 13.6, 13.8, 14.0, 14.2, 14.4, 14.6, 14...</td>\n",
       "      <td>[[13.4, 13.6, 13.8, 14.0, 14.2, 14.4, 14.6, 14...</td>\n",
       "      <td>[[13.4, 13.6, 13.8, 14.0, 14.2, 14.4, 14.6, 14...</td>\n",
       "      <td>[[13.4, 13.6, 13.8, 14.0, 14.2, 14.4, 14.6, 14...</td>\n",
       "    </tr>\n",
       "    <tr>\n",
       "      <th>16</th>\n",
       "      <td>[[19.0, 19.2, 19.4, 19.6, 19.8, 20.0, 20.2, 20...</td>\n",
       "      <td>[[19.0, 19.2, 19.4, 19.6, 19.8, 20.0, 20.2, 20...</td>\n",
       "      <td>[[19.0, 19.2, 19.4, 19.6, 19.8, 20.0, 20.2, 20...</td>\n",
       "      <td>[[19.0, 19.2, 19.4, 19.6, 19.8, 20.0, 20.2, 20...</td>\n",
       "      <td>[[19.0, 19.2, 19.4, 19.6, 19.8, 20.0, 20.2, 20...</td>\n",
       "      <td>[[19.0, 19.2, 19.4, 19.6, 19.8, 20.0, 20.2, 20...</td>\n",
       "      <td>[[19.0, 19.2, 19.4, 19.6, 19.8, 20.0, 20.2, 20...</td>\n",
       "      <td>[[19.0, 19.2, 19.4, 19.6, 19.8, 20.0, 20.2, 20...</td>\n",
       "      <td>[[19.0, 19.2, 19.4, 19.6, 19.8, 20.0, 20.2, 20...</td>\n",
       "    </tr>\n",
       "    <tr>\n",
       "      <th>32</th>\n",
       "      <td>[[20.2, 20.4, 20.6, 20.8, 21.0, 21.2, 21.4, 21...</td>\n",
       "      <td>[[20.2, 20.4, 20.6, 20.8, 21.0, 21.2, 21.4, 21...</td>\n",
       "      <td>[[20.2, 20.4, 20.6, 20.8, 21.0, 21.2, 21.4, 21...</td>\n",
       "      <td>[[20.2, 20.4, 20.6, 20.8, 21.0, 21.2, 21.4, 21...</td>\n",
       "      <td>[[20.4, 20.6, 20.8, 21.0, 21.2, 21.4, 21.6, 21...</td>\n",
       "      <td>[[20.2, 20.4, 20.6, 20.8, 21.0, 21.2, 21.4, 21...</td>\n",
       "      <td>[[20.2, 20.4, 20.6, 20.8, 21.0, 21.2, 21.4, 21...</td>\n",
       "      <td>[[20.4, 20.6, 20.8, 21.0, 21.2, 21.4, 21.6, 21...</td>\n",
       "      <td>[[20.2, 20.4, 20.6, 20.8, 21.0, 21.2, 21.4, 21...</td>\n",
       "    </tr>\n",
       "    <tr>\n",
       "      <th>64</th>\n",
       "      <td>NaN</td>\n",
       "      <td>NaN</td>\n",
       "      <td>[[20.8, 21.0, 21.2, 21.4, 21.6, 21.8, 22.0, 22...</td>\n",
       "      <td>[[20.8, 21.0, 21.2, 21.4, 21.6, 21.8, 22.0, 22...</td>\n",
       "      <td>[[20.8, 21.0, 21.2, 21.4, 21.6, 21.8, 22.0, 22...</td>\n",
       "      <td>[[20.8, 21.0, 21.2, 21.4, 21.6, 21.8, 22.0, 22...</td>\n",
       "      <td>[[20.8, 21.0, 21.2, 21.4, 21.6, 21.8, 22.0, 22...</td>\n",
       "      <td>[[20.8, 21.0, 21.2, 21.4, 21.6, 21.8, 22.0, 22...</td>\n",
       "      <td>[[21.0, 21.2, 21.4, 21.6, 21.8, 22.0, 22.2, 22...</td>\n",
       "    </tr>\n",
       "    <tr>\n",
       "      <th>128</th>\n",
       "      <td>NaN</td>\n",
       "      <td>[[23.2, 23.4, 23.6, 23.8, 24.0, 24.2, 24.4, 24...</td>\n",
       "      <td>[[23.0, 23.2, 23.4, 23.6, 23.8, 24.0, 24.2, 24...</td>\n",
       "      <td>[[23.0, 23.2, 23.4, 23.6, 23.8, 24.0, 24.2, 24...</td>\n",
       "      <td>[[23.2, 23.4, 23.6, 23.8, 24.0, 24.2, 24.4, 24...</td>\n",
       "      <td>[[23.2, 23.4, 23.6, 23.8, 24.0, 24.2, 24.4, 24...</td>\n",
       "      <td>[[23.2, 23.4, 23.6, 23.8, 24.0, 24.2, 24.4, 24...</td>\n",
       "      <td>[[23.2, 23.4, 23.6, 23.8, 24.0, 24.2, 24.4, 24...</td>\n",
       "      <td>[[23.2, 23.4, 23.6, 23.8, 24.0, 24.2, 24.4, 24...</td>\n",
       "    </tr>\n",
       "  </tbody>\n",
       "</table>\n",
       "</div>"
      ],
      "text/plain": [
       "                                                  0.06  \\\n",
       "2    [[7.0, 7.2, 7.4, 7.6, 7.8, 8.0, 8.2, 8.4, 8.6,...   \n",
       "4    [[9.2, 9.4, 9.6, 9.8, 10.0, 10.2, 10.4, 10.6, ...   \n",
       "8    [[13.4, 13.6, 13.8, 14.0, 14.2, 14.4, 14.6, 14...   \n",
       "16   [[19.0, 19.2, 19.4, 19.6, 19.8, 20.0, 20.2, 20...   \n",
       "32   [[20.2, 20.4, 20.6, 20.8, 21.0, 21.2, 21.4, 21...   \n",
       "64                                                 NaN   \n",
       "128                                                NaN   \n",
       "\n",
       "                                                  0.08  \\\n",
       "2    [[7.0, 7.2, 7.4, 7.6, 7.8, 8.0, 8.2, 8.4, 8.6,...   \n",
       "4    [[9.4, 9.6, 9.8, 10.0, 10.2, 10.4, 10.6, 10.8,...   \n",
       "8    [[13.4, 13.6, 13.8, 14.0, 14.2, 14.4, 14.6, 14...   \n",
       "16   [[19.0, 19.2, 19.4, 19.6, 19.8, 20.0, 20.2, 20...   \n",
       "32   [[20.2, 20.4, 20.6, 20.8, 21.0, 21.2, 21.4, 21...   \n",
       "64                                                 NaN   \n",
       "128  [[23.2, 23.4, 23.6, 23.8, 24.0, 24.2, 24.4, 24...   \n",
       "\n",
       "                                                   0.1  \\\n",
       "2    [[7.0, 7.2, 7.4, 7.6, 7.8, 8.0, 8.2, 8.4, 8.6,...   \n",
       "4    [[9.4, 9.6, 9.8, 10.0, 10.2, 10.4, 10.6, 10.8,...   \n",
       "8    [[13.4, 13.6, 13.8, 14.0, 14.2, 14.4, 14.6, 14...   \n",
       "16   [[19.0, 19.2, 19.4, 19.6, 19.8, 20.0, 20.2, 20...   \n",
       "32   [[20.2, 20.4, 20.6, 20.8, 21.0, 21.2, 21.4, 21...   \n",
       "64   [[20.8, 21.0, 21.2, 21.4, 21.6, 21.8, 22.0, 22...   \n",
       "128  [[23.0, 23.2, 23.4, 23.6, 23.8, 24.0, 24.2, 24...   \n",
       "\n",
       "                                                  0.15  \\\n",
       "2    [[7.0, 7.2, 7.4, 7.6, 7.8, 8.0, 8.2, 8.4, 8.6,...   \n",
       "4    [[9.4, 9.6, 9.8, 10.0, 10.2, 10.4, 10.6, 10.8,...   \n",
       "8    [[13.4, 13.6, 13.8, 14.0, 14.2, 14.4, 14.6, 14...   \n",
       "16   [[19.0, 19.2, 19.4, 19.6, 19.8, 20.0, 20.2, 20...   \n",
       "32   [[20.2, 20.4, 20.6, 20.8, 21.0, 21.2, 21.4, 21...   \n",
       "64   [[20.8, 21.0, 21.2, 21.4, 21.6, 21.8, 22.0, 22...   \n",
       "128  [[23.0, 23.2, 23.4, 23.6, 23.8, 24.0, 24.2, 24...   \n",
       "\n",
       "                                                   0.2  \\\n",
       "2    [[7.0, 7.2, 7.4, 7.6, 7.8, 8.0, 8.2, 8.4, 8.6,...   \n",
       "4    [[9.4, 9.6, 9.8, 10.0, 10.2, 10.4, 10.6, 10.8,...   \n",
       "8    [[13.4, 13.6, 13.8, 14.0, 14.2, 14.4, 14.6, 14...   \n",
       "16   [[19.0, 19.2, 19.4, 19.6, 19.8, 20.0, 20.2, 20...   \n",
       "32   [[20.4, 20.6, 20.8, 21.0, 21.2, 21.4, 21.6, 21...   \n",
       "64   [[20.8, 21.0, 21.2, 21.4, 21.6, 21.8, 22.0, 22...   \n",
       "128  [[23.2, 23.4, 23.6, 23.8, 24.0, 24.2, 24.4, 24...   \n",
       "\n",
       "                                                  0.25  \\\n",
       "2    [[7.0, 7.2, 7.4, 7.6, 7.8, 8.0, 8.2, 8.4, 8.6,...   \n",
       "4    [[9.2, 9.4, 9.6, 9.8, 10.0, 10.2, 10.4, 10.6, ...   \n",
       "8    [[13.4, 13.6, 13.8, 14.0, 14.2, 14.4, 14.6, 14...   \n",
       "16   [[19.0, 19.2, 19.4, 19.6, 19.8, 20.0, 20.2, 20...   \n",
       "32   [[20.2, 20.4, 20.6, 20.8, 21.0, 21.2, 21.4, 21...   \n",
       "64   [[20.8, 21.0, 21.2, 21.4, 21.6, 21.8, 22.0, 22...   \n",
       "128  [[23.2, 23.4, 23.6, 23.8, 24.0, 24.2, 24.4, 24...   \n",
       "\n",
       "                                                  0.27  \\\n",
       "2    [[7.0, 7.2, 7.4, 7.6, 7.8, 8.0, 8.2, 8.4, 8.6,...   \n",
       "4    [[9.4, 9.6, 9.8, 10.0, 10.2, 10.4, 10.6, 10.8,...   \n",
       "8    [[13.4, 13.6, 13.8, 14.0, 14.2, 14.4, 14.6, 14...   \n",
       "16   [[19.0, 19.2, 19.4, 19.6, 19.8, 20.0, 20.2, 20...   \n",
       "32   [[20.2, 20.4, 20.6, 20.8, 21.0, 21.2, 21.4, 21...   \n",
       "64   [[20.8, 21.0, 21.2, 21.4, 21.6, 21.8, 22.0, 22...   \n",
       "128  [[23.2, 23.4, 23.6, 23.8, 24.0, 24.2, 24.4, 24...   \n",
       "\n",
       "                                                   0.3  \\\n",
       "2    [[7.0, 7.2, 7.4, 7.6, 7.8, 8.0, 8.2, 8.4, 8.6,...   \n",
       "4    [[9.2, 9.4, 9.6, 9.8, 10.0, 10.2, 10.4, 10.6, ...   \n",
       "8    [[13.4, 13.6, 13.8, 14.0, 14.2, 14.4, 14.6, 14...   \n",
       "16   [[19.0, 19.2, 19.4, 19.6, 19.8, 20.0, 20.2, 20...   \n",
       "32   [[20.4, 20.6, 20.8, 21.0, 21.2, 21.4, 21.6, 21...   \n",
       "64   [[20.8, 21.0, 21.2, 21.4, 21.6, 21.8, 22.0, 22...   \n",
       "128  [[23.2, 23.4, 23.6, 23.8, 24.0, 24.2, 24.4, 24...   \n",
       "\n",
       "                                              $\\infty$  \n",
       "2    [[7.0, 7.2, 7.4, 7.6, 7.8, 8.0, 8.2, 8.4, 8.6,...  \n",
       "4    [[9.4, 9.6, 9.8, 10.0, 10.2, 10.4, 10.6, 10.8,...  \n",
       "8    [[13.4, 13.6, 13.8, 14.0, 14.2, 14.4, 14.6, 14...  \n",
       "16   [[19.0, 19.2, 19.4, 19.6, 19.8, 20.0, 20.2, 20...  \n",
       "32   [[20.2, 20.4, 20.6, 20.8, 21.0, 21.2, 21.4, 21...  \n",
       "64   [[21.0, 21.2, 21.4, 21.6, 21.8, 22.0, 22.2, 22...  \n",
       "128  [[23.2, 23.4, 23.6, 23.8, 24.0, 24.2, 24.4, 24...  "
      ]
     },
     "execution_count": 4,
     "metadata": {},
     "output_type": "execute_result"
    }
   ],
   "source": [
    "d = {}\n",
    "rho=266\n",
    "for salt in [0.06, 0.08, 0.1, 0.15, 0.2, 0.25, 0.27, 0.3, 1e10]:\n",
    "    d[salt] = {}\n",
    "    for numpep in [2, 4, 8, 16, 32, 64, 128]:\n",
    "        pfx='__rho'+str(rho)+'-N'+str(numpep)+'-I'+str(salt)\n",
    "        \n",
    "        distfile=pfx+'/cmdist.dat'\n",
    "        if os.path.isfile(distfile): \n",
    "        \n",
    "            r, P = np.loadtxt(distfile, unpack=True) # load data set\n",
    "            w = -np.log(P) # potential of mean force (PMF)\n",
    "        \n",
    "            # normalize such that w(r)->0 for large r\n",
    "            m = (r>200) & (r<220)\n",
    "            if len(w[m])>0:\n",
    "                w = w - w[m].mean()\n",
    "\n",
    "                # remove tail\n",
    "                w = w[r<200]\n",
    "                r = r[r<200]\n",
    "            \n",
    "                # integrate PMF to surface excess\n",
    "                gamma = np.trapz( np.expm1(-w), r  )\n",
    "        \n",
    "                d[salt][numpep] = [r, w, gamma]\n",
    "    \n",
    "    if len(d[salt])>0:\n",
    "        d[salt] = pd.Series(d[salt])\n",
    "\n",
    "data = pd.DataFrame(d)\n",
    "data = data.rename(columns={1e10: r'$\\infty$'})\n",
    "data"
   ]
  },
  {
   "cell_type": "markdown",
   "metadata": {},
   "source": [
    "### MC: Fibril-surface interaction free energy\n",
    "This will plot the PMF obtained from MC simulations at different fibril lenghts."
   ]
  },
  {
   "cell_type": "code",
   "execution_count": 5,
   "metadata": {
    "collapsed": false
   },
   "outputs": [
    {
     "data": {
      "image/png": "[encoded data removed]",
      "text/plain": [
       "<matplotlib.figure.Figure at 0x10d0a3810>"
      ]
     },
     "metadata": {},
     "output_type": "display_data"
    }
   ],
   "source": [
    "plt.rcParams.update({'font.size': 16, 'figure.figsize': [6.0, 5.0]})\n",
    "\n",
    "from scipy.signal import savgol_filter\n",
    "for N, d in data[0.25].iteritems():\n",
    "    if N in [2,8,16,64,128]:\n",
    "        if type(d)!=type(float()):\n",
    "            plt.plot(d[0], d[1], label='$N$='+str(N), lw=2)\n",
    "            #plt.plot(d[0], savgol_filter(d[1], 9, 2), lw=2)\n",
    "\n",
    "plt.legend(loc=0, frameon=False, fontsize='medium')\n",
    "plt.xlabel('Surface-Fibril Separation, $r$ (Å)')\n",
    "plt.ylabel(r'Free energy, $\\beta w(r)$')\n",
    "plt.ylim((-4,3))\n",
    "plt.savefig('mc_pmf.pdf', bbox_inches='tight')"
   ]
  },
  {
   "cell_type": "markdown",
   "metadata": {},
   "source": [
    "### MC: Surface excess at different salt concentrations and fibril lengths"
   ]
  },
  {
   "cell_type": "code",
   "execution_count": 6,
   "metadata": {
    "collapsed": false
   },
   "outputs": [
    {
     "name": "stderr",
     "output_type": "stream",
     "text": [
      "/Users/mikael/miniconda/lib/python2.7/site-packages/pandas/core/index.py:1759: UnicodeWarning: Unicode equal comparison failed to convert both arguments to Unicode - interpreting them as being unequal\n",
      "  return self._engine.get_loc(key)\n"
     ]
    },
    {
     "data": {
      "image/png": "[encoded data removed]",
      "text/plain": [
       "<matplotlib.figure.Figure at 0x1106b44d0>"
      ]
     },
     "metadata": {},
     "output_type": "display_data"
    }
   ],
   "source": [
    "def f(x):\n",
    "    if type(x)!=type(float()):\n",
    "        return x[2]\n",
    "    else:\n",
    "        return x\n",
    "\n",
    "plt.plot( [0,128], [0,0], 'k--')\n",
    "\n",
    "for salt, d in data.iteritems():\n",
    "    if salt>=0.1 and salt!=0.27:\n",
    "        _d = d.apply(f)\n",
    "        plt.plot(_d.keys(), _d.get_values(), label=salt, linestyle='-', marker='o', lw=2, ms=6)\n",
    "\n",
    "plt.legend(loc=0,frameon=False, fontsize='medium', title=r'$c_{s}$ (mol/l)')\n",
    "plt.xlabel(r'Number of monomers, $N=L/l_m$')\n",
    "plt.ylabel(r'Surface excess, $\\Gamma/\\rho$ (Å)')\n",
    "plt.xscale('log')\n",
    "plt.ylim((-80,100))\n",
    "plt.xlim(1, 1000)\n",
    "plt.savefig('mc_excess.pdf', bbox_inches='tight')"
   ]
  }
 ],
 "metadata": {
  "kernelspec": {
   "display_name": "Python 2",
   "language": "python",
   "name": "python2"
  },
  "language_info": {
   "codemirror_mode": {
    "name": "ipython",
    "version": 2
   },
   "file_extension": ".py",
   "mimetype": "text/x-python",
   "name": "python",
   "nbconvert_exporter": "python",
   "pygments_lexer": "ipython2",
   "version": "2.7.11"
  }
 },
 "nbformat": 4,
 "nbformat_minor": 0
}
