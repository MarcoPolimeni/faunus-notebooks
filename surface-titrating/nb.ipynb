{
 "cells": [
  {
   "cell_type": "markdown",
   "metadata": {
    "slideshow": {
     "slide_type": "-"
    }
   },
   "source": [
    "# Titrating, planar surface in explicit salt\n",
    "\n",
    "This will simulate:\n",
    "\n",
    "1. titrating species (COOH/COO-) allowed to move only on one box side\n",
    "2. surrounding 1:1 salt treated with explicit ions in the GC ensemble.\n",
    "\n",
    "![alternate text](mc.png)\n",
    "\n",
    "### System Requirements\n",
    "This Jupyter Notebook was originally run in MacOS 10.11 with `GCC 4.8`, `Python2`, `matplotlib`, `pandas` within the Anaconda environment. Contemporary Linux distributions such as Ubuntu 14.04 should work as well."
   ]
  },
  {
   "cell_type": "markdown",
   "metadata": {},
   "source": [
    "### Download and build Faunus\n",
    "\n",
    "We use a custom Metropolis Monte Carlo (MC) program build within the [Faunus framework](http://github.com/mlund/faunus.git). The sections below will fetch the complete faunus project and compile the program."
   ]
  },
  {
   "cell_type": "code",
   "execution_count": null,
   "metadata": {
    "collapsed": false
   },
   "outputs": [],
   "source": [
    "from __future__ import division, unicode_literals, print_function\n",
    "import matplotlib as mpl\n",
    "import matplotlib.pyplot as plt\n",
    "%matplotlib inline\n",
    "import numpy as np, pandas as pd\n",
    "import os.path, os, sys, json\n",
    "plt.rcParams.update({'font.size': 16, 'figure.figsize': [8.0, 6.0]})\n",
    "try:\n",
    "    workdir\n",
    "except NameError:\n",
    "    workdir=%pwd\n",
    "else:\n",
    "    %cd $workdir"
   ]
  },
  {
   "cell_type": "code",
   "execution_count": null,
   "metadata": {
    "collapsed": false
   },
   "outputs": [],
   "source": [
    "%%bash -s \"$workdir\"\n",
    "cd $1\n",
    "if [ ! -d \"faunus/\" ]; then\n",
    "    echo 'fau_example(surf \"./\" surf.cpp)' > mc/CMakeLists.txt\n",
    "    git clone https://github.com/mlund/faunus.git\n",
    "    cd faunus\n",
    "    git checkout 4da3195977b44012bfacbcd63ec11f0f82e3b836\n",
    "else\n",
    "    cd faunus\n",
    "fi\n",
    "pwd\n",
    "CXX=c++ CC=cc cmake . -DCMAKE_BUILD_TYPE=Release -DENABLE_APPROXMATH=on -DMYPLAYGROUND=`pwd`/../mc &>/dev/null\n",
    "make surf -j4"
   ]
  },
  {
   "cell_type": "markdown",
   "metadata": {},
   "source": [
    "### Create Input and run MC simulation"
   ]
  },
  {
   "cell_type": "code",
   "execution_count": null,
   "metadata": {
    "collapsed": false
   },
   "outputs": [],
   "source": [
    "def mkinput():\n",
    "    js = {\n",
    "        # customize LJ interaction between pairs (Ångstrom & kJ/mol)\n",
    "        \"customlj\" : {\n",
    "            \"Na COOH\" : { \"sigma\":4.0, \"eps\":0.7 },\n",
    "            \"Na COO\" : { \"sigma\":4.0, \"eps\":0.7 }\n",
    "        },\n",
    "        \n",
    "        # initial degree of protonation of the lipids\n",
    "        \"initial_degree_of_protonation\" : 0.5,\n",
    "\n",
    "        # to turn of lipid titration, just rename to i.e. \"_processes\"\n",
    "        \"processes\": {\n",
    "            \"acid\": { \"pKd\": 4.75, \"pX\": pH, \"bound\": \"COOH\", \"free\": \"COO\" }\n",
    "            },\n",
    "\n",
    "         \"energy\": {\n",
    "             \"eqstate\": { \"processfile\": \"gctit.json\" },\n",
    "             \"nonbonded\": {\n",
    "                \"coulomb\": { \"epsr\": 80 },\n",
    "                \"ljsimple\": { \"eps\": 0.05 }\n",
    "                }\n",
    "            },\n",
    "\n",
    "         \"system\": {\n",
    "             \"temperature\": 298.15,\n",
    "             \"cuboid\": { \"xyzlen\": str(xylen)+' '+str(xylen)+' '+str(zlen) },\n",
    "             \"mcloop\": { \"macro\": 10, \"micro\": micro }\n",
    "            },\n",
    "\n",
    "         \"moves\": {\n",
    "             \"gctit\"         : { \"molecule\": \"salt\", \"prob\": 0.5 },\n",
    "             \"atomtranslate\" : {\n",
    "                 \"lipid\": { \"prob\": 1.0, \"dir\":\"1 1 0\" },\n",
    "                 \"salt\":  { \"prob\": 0.5 }\n",
    "                }\n",
    "            },\n",
    "        \n",
    "         \"moleculelist\": {\n",
    "              \"lipid\": { \"Ninit\": Nlipid, \"atomic\": True, \"atoms\": \"COO\", \"insdir\": \"1 1 0\",\n",
    "                        \"insoffset\":\"0 0 \"+str(surfpos) },\n",
    "              \"salt\":  { \"Ninit\": 50, \"atomic\": True, \"atoms\": \"Na Cl\" }\n",
    "            },\n",
    "\n",
    "          \"atomlist\": {\n",
    "                \"Na\":   { \"q\": 1,  \"r\": 2, \"dp\": 50, \"eps\":0.05, \"activity\": salt },\n",
    "                \"Li\":   { \"q\": 1,  \"r\": 2, \"dp\": 50, \"eps\":0.05, \"activity\": 0.0 },\n",
    "                \"Cl\":   { \"q\": -1, \"r\": 2, \"dp\": 50, \"eps\":0.05, \"activity\": salt },\n",
    "                \"COOH\": { \"q\": 0,  \"r\": 2, \"dp\": 10, \"eps\":0.05 },\n",
    "                \"COO\":  { \"q\": -1, \"r\": 2, \"dp\": 10, \"eps\":0.05 }\n",
    "                }\n",
    "          }\n",
    "\n",
    "    with open('surf.json', 'w+') as f:\n",
    "        f.write(json.dumps(js, indent=4))\n",
    "\n",
    "%cd $workdir'/mc'\n",
    "\n",
    "micro=250000\n",
    "xylen=40\n",
    "zlen=60\n",
    "surfpos=-0.5*zlen+1e-6\n",
    "\n",
    "for pH in [7.0]:\n",
    "    for salt in [1.0]:     # mol/l\n",
    "        for rho in [25]:  # angstrom^2 per lipid\n",
    "            Nlipid = int(xylen**2/rho)\n",
    "            print('Number of head groups = ', Nlipid)\n",
    "            pfx='rho'+str(rho)+'-pH'+str(pH)+'-I'+str(salt)\n",
    "            if True: #not os.path.isdir(pfx):\n",
    "                %mkdir -p $pfx \n",
    "                %cd $pfx\n",
    "                !rm -fR state\n",
    "                mkinput()\n",
    "                !../surf\n",
    "                %cd .."
   ]
  },
  {
   "cell_type": "code",
   "execution_count": null,
   "metadata": {
    "collapsed": false
   },
   "outputs": [],
   "source": [
    "%cd $workdir'/mc'\n",
    "for pH in [7.0]:\n",
    "    for salt in [1.0]:     # mol/l\n",
    "        for rho in [25]:  # angstrom^2 per lipid\n",
    "            pfx='rho'+str(rho)+'-pH'+str(pH)+'-I'+str(salt)\n",
    "            if os.path.isdir(pfx):\n",
    "                %cd $pfx\n",
    "                r1, P1 = np.loadtxt(\"zhist_cation.dat\", unpack=True)\n",
    "                r2, P2 = np.loadtxt(\"zhist_anion.dat\", unpack=True)\n",
    "                P1 = P1 / P1[ r1>15 ].mean() # normalize to unity at long sep.\n",
    "                P2 = P2 / P2[ r2>15 ].mean() # normalize to unity at long sep.\n",
    "                plt.plot(r1-r1.min(), P1, 'r-', label='cation')\n",
    "                plt.plot(r2-r1.min(), P2, 'b-', label='anion')\n",
    "                %cd ..\n",
    "                \n",
    "plt.legend(loc=0, frameon=False)\n",
    "plt.xlabel(r'$z$-distance from lipids (Å)')\n",
    "plt.ylabel(r'Relative probability')\n",
    "plt.ylim( (0, 20) )\n",
    "plt.xlim( (0, 20) )\n",
    "plt.savefig('fig.pdf', bbox_inches='tight')"
   ]
  },
  {
   "cell_type": "code",
   "execution_count": null,
   "metadata": {
    "collapsed": true
   },
   "outputs": [],
   "source": []
  }
 ],
 "metadata": {
  "kernelspec": {
   "display_name": "Python 2",
   "language": "python",
   "name": "python2"
  },
  "language_info": {
   "codemirror_mode": {
    "name": "ipython",
    "version": 2
   },
   "file_extension": ".py",
   "mimetype": "text/x-python",
   "name": "python",
   "nbconvert_exporter": "python",
   "pygments_lexer": "ipython2",
   "version": "2.7.11"
  }
 },
 "nbformat": 4,
 "nbformat_minor": 0
}
