{
 "cells": [
  {
   "cell_type": "markdown",
   "metadata": {
    "slideshow": {
     "slide_type": "-"
    }
   },
   "source": [
    "# Titrating, planar surface in explicit salt\n",
    "\n",
    "This will simulate:\n",
    "\n",
    "1. titrating species (COOH/COO-) allowed to move only on one box side\n",
    "2. surrounding 1:1 salt treated with explicit ions in the GC ensemble.\n",
    "\n",
    "![alternate text](mc.png)\n",
    "\n",
    "### System Requirements\n",
    "This Jupyter Notebook was originally run in MacOS 10.11 with `GCC 4.8`, `Python2`, `matplotlib`, `pandas` within the Anaconda environment. Contemporary Linux distributions such as Ubuntu 14.04 should work as well."
   ]
  },
  {
   "cell_type": "markdown",
   "metadata": {},
   "source": [
    "### Download and build Faunus\n",
    "\n",
    "Wwe use a custom Metropolis Monte Carlo (MC) program build within the [Faunus framework](http://github.com/mlund/faunus.git). The sections below will fetch the complete faunus project and compile the program."
   ]
  },
  {
   "cell_type": "code",
   "execution_count": null,
   "metadata": {
    "collapsed": false
   },
   "outputs": [],
   "source": [
    "from __future__ import division, unicode_literals, print_function\n",
    "import matplotlib as mpl\n",
    "import matplotlib.pyplot as plt\n",
    "%matplotlib inline\n",
    "import numpy as np, pandas as pd\n",
    "import os.path, os, sys, json\n",
    "plt.rcParams.update({'font.size': 16, 'figure.figsize': [8.0, 6.0]})\n",
    "try:\n",
    "    workdir\n",
    "except NameError:\n",
    "    workdir=%pwd\n",
    "else:\n",
    "    %cd $workdir"
   ]
  },
  {
   "cell_type": "code",
   "execution_count": null,
   "metadata": {
    "collapsed": false
   },
   "outputs": [],
   "source": [
    "%%bash -s \"$workdir\"\n",
    "cd $1\n",
    "if [ ! -d \"faunus/\" ]; then\n",
    "    echo 'fau_example(surf \"./\" surf.cpp)' > mc/CMakeLists.txt\n",
    "    git clone https://github.com/mlund/faunus.git\n",
    "    cd faunus\n",
    "    git checkout a15d197\n",
    "else\n",
    "    cd faunus\n",
    "fi\n",
    "pwd\n",
    "CXX=c++ CC=cc cmake . -DCMAKE_BUILD_TYPE=RelWithDebInfo -DENABLE_APPROXMATH=on -DMYPLAYGROUND=`pwd`/../mc &>/dev/null\n",
    "make surf -j4"
   ]
  },
  {
   "cell_type": "markdown",
   "metadata": {},
   "source": [
    "### Create Input and run MC simulation"
   ]
  },
  {
   "cell_type": "code",
   "execution_count": null,
   "metadata": {
    "collapsed": false
   },
   "outputs": [],
   "source": [
    "def mkinput():\n",
    "    js = {\n",
    "        \"processes\": {\n",
    "            \"acid\": { \"pKd\": 4.75, \"pX\": pH, \"bound\": \"COOH\", \"free\": \"COO\" }\n",
    "            },\n",
    "\n",
    "         \"energy\": {\n",
    "             \"eqstate\": { \"processfile\": \"gctit.json\" },\n",
    "             \"nonbonded\": {\n",
    "                \"coulomb\": { \"epsr\": 80 },\n",
    "                \"ljsimple\": { \"eps\": 0.05 }\n",
    "                }\n",
    "            },\n",
    "\n",
    "         \"system\": {\n",
    "             \"temperature\": 298.15,\n",
    "             \"cuboid\": { \"xyzlen\": str(xylen)+' '+str(xylen)+' '+str(zlen) },\n",
    "             \"mcloop\": { \"macro\": 10, \"micro\": micro }\n",
    "            },\n",
    "\n",
    "         \"moves\": {\n",
    "             \"gctit\"         : { \"molecule\": \"salt\", \"prob\": 1.0 },\n",
    "             \"atomtranslate\" : {\n",
    "                 \"lipid\": { \"prob\": 1.0, \"dir\":\"1 1 0\" },\n",
    "                 \"salt\":  { \"prob\": 1.0 }\n",
    "                }\n",
    "            },\n",
    "\n",
    "         \"moleculelist\": {\n",
    "              \"lipid\": { \"Ninit\": Nlipid, \"atomic\": True, \"atoms\": \"COOH\", \"insdir\": \"1 1 0\",\n",
    "                        \"insoffset\":\"0 0 \"+str(surfpos) },\n",
    "              \"salt\":  { \"Ninit\": 100, \"atomic\": True, \"atoms\": \"Na Cl\" }\n",
    "            },\n",
    "\n",
    "          \"atomlist\": {\n",
    "                \"Na\":   { \"q\": 1,  \"r\": 2, \"dp\": 50, \"activity\": salt },\n",
    "                \"Cl\":   { \"q\": -1, \"r\": 2, \"dp\": 50, \"activity\": salt },\n",
    "                \"COOH\": { \"q\": 0,  \"r\": 2, \"dp\": 20 },\n",
    "                \"COO\":  { \"q\": -1, \"r\": 2, \"dp\": 20 }\n",
    "                }\n",
    "          }\n",
    "\n",
    "    with open('surf.json', 'w+') as f:\n",
    "        f.write(json.dumps(js, indent=4))\n",
    "\n",
    "%cd $workdir'/mc'\n",
    "\n",
    "micro=50000\n",
    "xylen=50\n",
    "zlen=100\n",
    "surfpos=-0.5*zlen+1e-6\n",
    "\n",
    "for pH in [7.0]:\n",
    "    for salt in [0.2]:     # mol/l\n",
    "        for rho in [25]:  # angstrom^2 per lipid\n",
    "            Nlipid = int(xylen**2/rho)\n",
    "            print('Number of head groups = ', Nlipid)\n",
    "            pfx='rho'+str(rho)+'-pH'+str(pH)+'-I'+str(salt)\n",
    "            if True: #not os.path.isdir(pfx):\n",
    "                %mkdir -p $pfx \n",
    "                %cd $pfx\n",
    "                !rm -fR state\n",
    "                mkinput()\n",
    "                !../surf\n",
    "                %cd .."
   ]
  },
  {
   "cell_type": "code",
   "execution_count": null,
   "metadata": {
    "collapsed": true
   },
   "outputs": [],
   "source": []
  }
 ],
 "metadata": {
  "kernelspec": {
   "display_name": "Python 2",
   "language": "python",
   "name": "python2"
  },
  "language_info": {
   "codemirror_mode": {
    "name": "ipython",
    "version": 2
   },
   "file_extension": ".py",
   "mimetype": "text/x-python",
   "name": "python",
   "nbconvert_exporter": "python",
   "pygments_lexer": "ipython2",
   "version": "2.7.11"
  }
 },
 "nbformat": 4,
 "nbformat_minor": 0
}
