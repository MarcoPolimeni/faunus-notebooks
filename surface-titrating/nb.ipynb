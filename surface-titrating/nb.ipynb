{
 "cells": [
  {
   "cell_type": "markdown",
   "metadata": {},
   "source": [
    "# Titrating, planar surface in explicit salt\n",
    "\n",
    "This will simulate:\n",
    "\n",
    "1. titrating species (COOH/COO-) allowed to move only on one box side\n",
    "2. surrounding 1:1 salt treated with explicit ions in the GC ensemble.\n",
    "\n",
    "### System Requirements\n",
    "This Jupyter Notebook was originally run in MacOS 10.11 with `GCC 4.8`, `Python2`, `matplotlib`, `pandas` within the Anaconda environment. Contemporary Linux distributions such as Ubuntu 14.04 should work as well."
   ]
  },
  {
   "cell_type": "markdown",
   "metadata": {},
   "source": [
    "### Download and build Faunus\n",
    "\n",
    "Wwe use a custom Metropolis Monte Carlo (MC) program build within the [Faunus framework](http://github.com/mlund/faunus.git). The sections below will fetch the complete faunus project and compile the program."
   ]
  },
  {
   "cell_type": "code",
   "execution_count": 7,
   "metadata": {
    "collapsed": false
   },
   "outputs": [
    {
     "name": "stdout",
     "output_type": "stream",
     "text": [
      "/Users/mikael/github/faunus-notebooks/surface-titrating\n"
     ]
    }
   ],
   "source": [
    "from __future__ import division, unicode_literals, print_function\n",
    "import matplotlib as mpl\n",
    "import matplotlib.pyplot as plt\n",
    "%matplotlib inline\n",
    "import numpy as np, pandas as pd\n",
    "import os.path, os, sys, json\n",
    "plt.rcParams.update({'font.size': 16, 'figure.figsize': [8.0, 6.0]})\n",
    "try:\n",
    "    workdir\n",
    "except NameError:\n",
    "    workdir=%pwd\n",
    "else:\n",
    "    %cd $workdir"
   ]
  },
  {
   "cell_type": "code",
   "execution_count": 28,
   "metadata": {
    "collapsed": false
   },
   "outputs": [
    {
     "name": "stdout",
     "output_type": "stream",
     "text": [
      "/Users/mikael/github/faunus-notebooks/surface-titrating/faunus\n",
      "[ 36%] Built target xdrfile\n",
      "[ 81%] Built target libfaunus\n",
      "Scanning dependencies of target surf\n",
      "[ 90%] Building CXX object /Users/mikael/github/faunus-notebooks/surface-titrating/mc/CMakeFiles/surf.dir/surf.cpp.o\n",
      "[100%] Linking CXX executable surf\n",
      "[100%] Built target surf\n"
     ]
    }
   ],
   "source": [
    "%%bash -s \"$workdir\"\n",
    "cd $1\n",
    "if [ ! -d \"faunus/\" ]; then\n",
    "    echo 'fau_example(surf \"./\" surf.cpp)' > mc/CMakeLists.txt\n",
    "    git clone https://github.com/mlund/faunus.git\n",
    "    cd faunus\n",
    "    git checkout 90811c4\n",
    "else\n",
    "    cd faunus\n",
    "fi\n",
    "pwd\n",
    "CXX=clang++ CC=clang cmake . -DCMAKE_BUILD_TYPE=RelWithDebInfo -DENABLE_APPROXMATH=on -DMYPLAYGROUND=`pwd`/../mc &>/dev/null\n",
    "make surf -j4"
   ]
  },
  {
   "cell_type": "markdown",
   "metadata": {},
   "source": [
    "### Create Input and run MC simulation"
   ]
  },
  {
   "cell_type": "code",
   "execution_count": 30,
   "metadata": {
    "collapsed": false
   },
   "outputs": [
    {
     "name": "stdout",
     "output_type": "stream",
     "text": [
      "/Users/mikael/github/faunus-notebooks/surface-titrating/mc\n",
      "Number of head groups =  25\n",
      "/Users/mikael/github/faunus-notebooks/surface-titrating/mc/rho100-pH4.75-I0.1\n",
      "# Reading process acid ... OK!\n",
      "Reading space state file 'state'. State file not found.\n",
      "# Reading process acid ... OK!\n",
      "\n",
      " .................\n",
      "  Atom Properties  \n",
      " *****************\n",
      "  Number of entries:       5\n",
      "  Element info:\n",
      "    unk   COO   COOH  Cl    Na    \n",
      "\n",
      " ...............................\n",
      "  Simulation Space and Geometry  \n",
      " *******************************\n",
      "  Boundary                 Cuboid\n",
      "  Volume                   250000 Å³ = 250 nm³ = 2.5e-22 liters\n",
      "  Sidelengths               50  50 100 (Å)\n",
      "  Scale directions         XYZ\n",
      "  Number of particles      225\n",
      "  Electroneutrality        Yes 0\n",
      "  System sanity check      Passed\n",
      "  Number of molecule types 2\n",
      "  Groups:\n",
      "    1     [0-24]           lipid       N/V = 0.0001 Å⁻³ = 166.054 mM  \n",
      "    2     [25-224]         salt        N/V = 0.0008 Å⁻³ = 1328.43 mM  \n",
      "\n",
      " ...............................................\n",
      "  Energy: Nonbonded N² - Coulomb+Lennard-Jones  \n",
      " ***********************************************\n",
      "  Temperature              298.15 K\n",
      "  Dielectric constant      80\n",
      "  T∂ϵ/ϵ∂T                  -1.37149\n",
      "  Bjerrum length           7.0057 Å\n",
      "  ϵ(LJ)                    0.05 kT = 0.123949 kJ/mol\n",
      "\n",
      " ..................................\n",
      "  Energy: Equilibrium State Energy  \n",
      " **********************************\n",
      "  Number of sites          25\n",
      "  Processes:\n",
      "\n",
      "     AX <-> A         pKd      pX     pAX      pA       N     ⟨Z⟩\n",
      "  ----------------------------------------------------------------------\n",
      "   COOH <-> COO      4.75    4.75      -0      -0      25\n",
      "\n",
      "  Steps:    1 / 100000      Macrosteps/min: 322     ETA: Wed Feb 24 13:59:18 2016\n",
      "  Steps:    2 / 200000      Macrosteps/min: 348     ETA: Wed Feb 24 13:59:18 2016\n",
      "  Steps:    3 / 300000      Macrosteps/min: 352     ETA: Wed Feb 24 13:59:19 2016\n",
      "  Steps:    4 / 400000      Macrosteps/min: 355     ETA: Wed Feb 24 13:59:19 2016\n",
      "  Steps:    5 / 500000      Macrosteps/min: 357     ETA: Wed Feb 24 13:59:18 2016\n",
      "  Steps:    6 / 600000      Macrosteps/min: 357     ETA: Wed Feb 24 13:59:18 2016\n",
      "  Steps:    7 / 700000      Macrosteps/min: 361     ETA: Wed Feb 24 13:59:18 2016\n",
      "  Steps:    8 / 800000      Macrosteps/min: 361     ETA: Wed Feb 24 13:59:18 2016\n",
      "  Steps:    9 / 900000      Macrosteps/min: 363     ETA: Wed Feb 24 13:59:19 2016\n",
      "  Steps:   10 / 1000000     Macrosteps/min: 365     ETA: Wed Feb 24 13:59:19 2016\n",
      "Writing to file 'confout.pqr'. OK!\n",
      "# System net charge = 0\n",
      "Assertion failed: (i==base::operator[](i).id && \"Property out of sync\"), function operator[], file /Users/mikael/github/faunus-notebooks/surface-titrating/faunus/include/faunus/species.h, line 121.\n",
      "/Users/mikael/github/faunus-notebooks/surface-titrating/mc\n"
     ]
    }
   ],
   "source": [
    "def mkinput():\n",
    "    global pH, micro\n",
    "    js = {\n",
    "        \"processes\": {\n",
    "            \"acid\": { \"pKd\": 4.75, \"pX\": pH, \"bound\": \"COOH\", \"free\": \"COO\" }\n",
    "            },\n",
    "\n",
    "         \"energy\": {\n",
    "             \"eqstate\": { \"processfile\": \"gctit.json\" },\n",
    "             \"nonbonded\": {\n",
    "                \"coulomb\": { \"epsr\": 80 },\n",
    "                \"ljsimple\": { \"eps\": 0.05 }\n",
    "                }\n",
    "            },\n",
    "\n",
    "         \"system\": {\n",
    "             \"temperature\": 298.15,\n",
    "             \"cuboid\": { \"xyzlen\": str(xylen)+' '+str(xylen)+' '+str(zlen) },\n",
    "             \"mcloop\": { \"macro\": 10, \"micro\": micro }\n",
    "            },\n",
    "\n",
    "         \"moves\": {\n",
    "             \"gctit\"         : { \"molecule\": \"salt\", \"prob\": 0.1 },\n",
    "             \"atomtranslate\" : {\n",
    "                 \"lipid\": { \"prob\": 1.0, \"dir\":\"1 1 0\" },\n",
    "                 \"salt\":  { \"prob\": 1.0 }\n",
    "                }\n",
    "            },\n",
    "\n",
    "         \"moleculelist\": {\n",
    "              \"lipid\": { \"Ninit\": Nlipid, \"atomic\": True, \"atoms\": \"COOH\", \"insdir\": \"1 1 0\",\n",
    "                        \"insoffset\":\"0 0 \"+str(surfpos) },\n",
    "              \"salt\":  { \"Ninit\": 100, \"atomic\": True, \"atoms\": \"Na Cl\" }\n",
    "            },\n",
    "\n",
    "          \"atomlist\": {\n",
    "                \"Na\":   { \"q\": 1,  \"r\": 2, \"dp\": 50, \"activity\": salt },\n",
    "                \"Cl\":   { \"q\": -1, \"r\": 2, \"dp\": 50, \"activity\": salt },\n",
    "                \"COOH\": { \"q\": 0,  \"r\": 2, \"dp\": 20 },\n",
    "                \"COO\":  { \"q\": -1, \"r\": 2, \"dp\": 20 }\n",
    "                }\n",
    "          }\n",
    "\n",
    "    with open('surf.json', 'w+') as f:\n",
    "        f.write(json.dumps(js, indent=4))\n",
    "\n",
    "%cd $workdir'/mc'\n",
    "\n",
    "micro=100000\n",
    "xylen=50\n",
    "zlen=100\n",
    "surfpos=-0.5*zlen+1e-6\n",
    "\n",
    "for pH in [4.75]:\n",
    "    for salt in [0.1]:     # mol/l\n",
    "        for rho in [100]:  # angstrom^2 per lipid\n",
    "            Nlipid = int(xylen**2/rho)\n",
    "            print('Number of head groups = ', Nlipid)\n",
    "            pfx='rho'+str(rho)+'-pH'+str(pH)+'-I'+str(salt)\n",
    "            if True: #not os.path.isdir(pfx):\n",
    "                %mkdir -p $pfx \n",
    "                %cd $pfx\n",
    "                !rm -fR state\n",
    "                mkinput()\n",
    "                !../surf\n",
    "                %cd .."
   ]
  },
  {
   "cell_type": "code",
   "execution_count": null,
   "metadata": {
    "collapsed": true
   },
   "outputs": [],
   "source": []
  }
 ],
 "metadata": {
  "kernelspec": {
   "display_name": "Python 2",
   "language": "python",
   "name": "python2"
  },
  "language_info": {
   "codemirror_mode": {
    "name": "ipython",
    "version": 2
   },
   "file_extension": ".py",
   "mimetype": "text/x-python",
   "name": "python",
   "nbconvert_exporter": "python",
   "pygments_lexer": "ipython2",
   "version": "2.7.11"
  }
 },
 "nbformat": 4,
 "nbformat_minor": 0
}
