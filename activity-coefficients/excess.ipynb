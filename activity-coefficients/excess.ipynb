{
 "cells": [
  {
   "cell_type": "markdown",
   "metadata": {},
   "source": [
    "# Activity Coefficients in Electrolyte Solutions\n",
    "_Mikael Lund_"
   ]
  },
  {
   "cell_type": "code",
   "execution_count": null,
   "metadata": {
    "collapsed": false
   },
   "outputs": [],
   "source": [
    "from __future__ import print_function\n",
    "%matplotlib inline\n",
    "import matplotlib as mpl\n",
    "import matplotlib.pyplot as plt\n",
    "import numpy as np, pandas as pd\n",
    "import mdtraj as md\n",
    "from math import sqrt, pi, exp\n",
    "import os.path, os, sys, json, filecmp, copy\n",
    "#plt.rcParams.update({'font.size': 16, 'figure.figsize': [8.0, 6.0]})\n",
    "try:\n",
    "    workdir\n",
    "except NameError:\n",
    "    workdir=%pwd\n",
    "else:\n",
    "    %cd -q $workdir\n",
    "print(workdir)"
   ]
  },
  {
   "cell_type": "markdown",
   "metadata": {},
   "source": [
    "### Download and compile the MC software"
   ]
  },
  {
   "cell_type": "code",
   "execution_count": null,
   "metadata": {
    "collapsed": false
   },
   "outputs": [],
   "source": [
    "%%bash -s \"$workdir\"\n",
    "%cd -q $1\n",
    "\n",
    "echo 'fau_example(excess \"./\" excess.cpp)' > mc/CMakeLists.txt\n",
    "\n",
    "# the following lines are for compilation on LUNARC\n",
    "#module add GCC/5.4.0-2.26\n",
    "#module load CMake/3.5.2\n",
    "#export CXX=/sw/easybuild/software/Core/GCCcore/5.4.0/bin/g++\n",
    "#export CC=/sw/easybuild/software/Core/GCCcore/5.4.0/bin/gcc\n",
    "\n",
    "if [ ! -d \"faunus/\" ]; then\n",
    "    git clone https://github.com/mlund/faunus.git\n",
    "    cd faunus\n",
    "    #git checkout a2220dc8f98606d2ceb42f14c6a08ec0723d8787\n",
    "else\n",
    "    cd faunus\n",
    "fi\n",
    "\n",
    "cmake . -DCMAKE_BUILD_TYPE=Release -DENABLE_APPROXMATH=on -DMYPLAYGROUND=$1/mc &>/dev/null\n",
    "make excess -j4\n",
    "%cd $1"
   ]
  },
  {
   "cell_type": "markdown",
   "metadata": {},
   "source": [
    "### Simulation setup\n",
    "Wall time, number of cores etc. Currently for the slurm system."
   ]
  },
  {
   "cell_type": "code",
   "execution_count": null,
   "metadata": {
    "collapsed": false
   },
   "outputs": [],
   "source": [
    "%%writefile submit.sh\n",
    "#!/bin/bash\n",
    "#SBATCH -N 1\n",
    "#SBATCH -n 1\n",
    "#SBATCH -t 03:00:00\n",
    "../mc/excess > out"
   ]
  },
  {
   "cell_type": "code",
   "execution_count": null,
   "metadata": {
    "collapsed": false,
    "scrolled": true
   },
   "outputs": [],
   "source": [
    "salts = pd.Series(\n",
    "    {\n",
    "        'NaCl_2.1' : pd.Series( {'cation':'Na', 'anion':'Cl', 'ratio':1,\n",
    "                           'activities':np.arange(0.1, 1.6, 0.1), 'catsigma':2.1, 'ansigma':2.1 } ),\n",
    "        'NaCl_2.2' : pd.Series( {'cation':'Na', 'anion':'Cl', 'ratio':1,\n",
    "                           'activities':np.arange(0.1, 1.6, 0.1), 'catsigma':2.2, 'ansigma':2.2 } ),\n",
    "        'NaCl_2.3' : pd.Series( {'cation':'Na', 'anion':'Cl', 'ratio':1,\n",
    "                           'activities':np.arange(0.1, 1.6, 0.1), 'catsigma':2.3, 'ansigma':2.3 } )\n",
    "    }\n",
    ")\n",
    "salts['NaCl_2.3'].activities"
   ]
  },
  {
   "cell_type": "code",
   "execution_count": null,
   "metadata": {
    "collapsed": false,
    "scrolled": false
   },
   "outputs": [],
   "source": [
    "%cd -q $workdir\n",
    "\n",
    "def mkinput():\n",
    "    js = {\n",
    "            \"moleculelist\": {\n",
    "                \"salt\": { \"Ninit\": 20, \"atomic\": True, \"atoms\": d.cation+d.ratio*(' '+d.anion) }\n",
    "            }, \n",
    "            \"energy\": {\n",
    "                \"nonbonded\": { \"coulomb\": { \"epsr\": 80 } }\n",
    "            }, \n",
    "\n",
    "            \"moves\": {\n",
    "                \"atomtranslate\": { \"salt\": { \"permol\": True, \"prob\": 0.01 } }, \n",
    "                \"atomgc\": { \"molecule\": \"salt\" }\n",
    "            }, \n",
    "\n",
    "            \"system\": {\n",
    "                \"mcloop\"      : { \"macro\": 10, \"micro\": micro }, \n",
    "                \"cuboid\"      : { \"len\": 50 },\n",
    "                \"coulomb\"     : { \"epsr\": 80 },\n",
    "                \"temperature\" : 298.15\n",
    "            }, \n",
    "\n",
    "            \"atomlist\": {\n",
    "                \"Na\": { \"q\":  1.0, \"r\": catsigma, \"eps\":0.01, \"dp\": 70, \"activity\": activity }, \n",
    "                \"Cl\": { \"q\": -1.0, \"r\": ansigma, \"eps\":0.01, \"dp\": 70, \"activity\": activity }\n",
    "            }\n",
    "    }\n",
    "\n",
    "    with open('excess.json', 'w+') as f:\n",
    "        f.write(json.dumps(js, indent=4))\n",
    "\n",
    "# flow control:\n",
    "equilibration = True   # if true, delete state file and start over\n",
    "production    = True   # if true, start from present state file\n",
    "slurm         = False  # if true, submit production runs to slurm cluster\n",
    "override      = False   # if true, override existing files\n",
    "\n",
    "for salt,d in salts.iteritems():\n",
    "    for activity in d.activities:\n",
    "        cation = d.cation\n",
    "        anion  = d.anion\n",
    "        ratio  = d.ratio\n",
    "        catsigma=d.catsigma\n",
    "        ansigma =d.ansigma\n",
    "        \n",
    "        pfx=salt+'-a'+str(activity)\n",
    "        if not os.path.isdir(pfx):\n",
    "            %mkdir -p $pfx\n",
    "        else:\n",
    "            if override==False:\n",
    "                break\n",
    "        %cd $pfx\n",
    "\n",
    "        # equilibration run\n",
    "        if equilibration:\n",
    "            !rm -fR state\n",
    "            micro=5000\n",
    "            mkinput()\n",
    "            !../mc/excess > eq 2>&1\n",
    "            !rm -fR analysis_out.json\n",
    "\n",
    "        # production run\n",
    "        if production:\n",
    "            micro=50000\n",
    "            mkinput()\n",
    "            if slurm:\n",
    "                !sbatch ../submit.sh > /dev/null\n",
    "            else:\n",
    "                !../mc/excess > out 2>&1\n",
    "\n",
    "        %cd -q ..\n",
    "\n",
    "print('done.')"
   ]
  },
  {
   "cell_type": "code",
   "execution_count": null,
   "metadata": {
    "collapsed": false,
    "scrolled": true
   },
   "outputs": [],
   "source": [
    "%cd -q $workdir\n",
    "import json\n",
    "\n",
    "picklefile = 'data.p' \n",
    "\n",
    "if os.path.isfile( picklefile ):        # if pickle file exists, use that\n",
    "    print('loading from saved pickle')\n",
    "    sets = pd.read_pickle( picklefile )\n",
    "else:\n",
    "    print('loading from MC raw data')   # otherwise extract from MC output\n",
    "\n",
    "    data = {}\n",
    "    for salt,d in salts.iteritems():\n",
    "        d['gamma_cation'] = []\n",
    "        d['gamma_anion'] = []\n",
    "        for activity in d.activities:\n",
    "            pfx=salt+'-a'+str(activity)\n",
    "        \n",
    "            if os.path.isdir(pfx):\n",
    "                %cd -q $pfx\n",
    "                r = json.load( open('move_out.json') )['moves']['moves/atomgc']['atoms']\n",
    "                d['gamma_cation'].append( np.array(r[d.cation]['gamma']) )\n",
    "                d['gamma_anion'].append( np.array(r[d.anion]['gamma']) )\n",
    "                %cd -q ..\n",
    "    #salts.to_pickle( picklefile )\n",
    "print(salts['NaCl_2.3'])"
   ]
  },
  {
   "cell_type": "code",
   "execution_count": null,
   "metadata": {
    "collapsed": false,
    "scrolled": true
   },
   "outputs": [],
   "source": [
    "# experimental data\n",
    "exp = np.loadtxt('exp-nacl-coeff.csv', delimiter=',', skiprows=1, unpack=True)\n",
    "plt.plot(exp[0], exp[1], 'ko', label='exp')\n",
    "\n",
    "for salt,d in salts.iteritems():\n",
    "    # mean ionic activity coefficient\n",
    "    gamma = np.sqrt( np.array(d.gamma_cation) * np.array(d.gamma_anion) )\n",
    "    \n",
    "    # molar concentration = activity / gamma\n",
    "    molarity = d.activities / gamma\n",
    "\n",
    "    plt.plot( molarity, gamma, label='mc '+salt, lw=2)\n",
    "\n",
    "plt.legend(loc=0, frameon=False)\n",
    "\n",
    "plt.ylabel('$\\gamma_{\\pm}$')\n",
    "plt.xlabel('molarity')\n",
    "#plt.xlim((0.1,1.7))"
   ]
  },
  {
   "cell_type": "code",
   "execution_count": null,
   "metadata": {
    "collapsed": false
   },
   "outputs": [],
   "source": [
    "from scipy.optimize import newton\n",
    "\n",
    "lB=7           # Bjerrum length (Å)\n",
    "s=2*2.2        # sigma (Å)\n",
    "eps=0.01 / 2.5 # epsilon (kT)\n",
    "\n",
    "def el(r): return -lB/r                        # Coulomb pot.\n",
    "def lj(r): return 4*eps*( (s/r)**12-(s/r)**6 ) # Lennard-Jones pot.\n",
    "def u(r): return lj(r) + el(r)                 # combined pot.\n",
    "\n",
    "r = np.linspace(0.64*s, 2*s, 100)\n",
    "\n",
    "plt.plot(r, lj(r), 'r.', label='lj', markersize=2 )\n",
    "plt.plot(r, el(r), label='el')\n",
    "plt.plot(r, u(r), label='lj+el' )\n",
    "plt.xlabel(u'$r$/Å')\n",
    "plt.ylabel(u'$u(r)/k_BT$')\n",
    "plt.legend(loc=0, frameon=False)\n",
    "\n",
    "r0 = newton(u, x0=0.5*s) # when is u(r) zero?\n",
    "plt.plot([r0], [0], 'go')\n",
    "plt.annotate( '$r_0=$'+str('%.2f' % r0)+u' Å', xy=(rzero, 0), xytext=(r0+1, -1),\n",
    "             arrowprops=dict(facecolor='green', width=2, headwidth=6, edgecolor='none') )"
   ]
  },
  {
   "cell_type": "code",
   "execution_count": null,
   "metadata": {
    "collapsed": true
   },
   "outputs": [],
   "source": []
  }
 ],
 "metadata": {
  "kernelspec": {
   "display_name": "Python 3",
   "language": "python",
   "name": "python3"
  },
  "language_info": {
   "codemirror_mode": {
    "name": "ipython",
    "version": 3
   },
   "file_extension": ".py",
   "mimetype": "text/x-python",
   "name": "python",
   "nbconvert_exporter": "python",
   "pygments_lexer": "ipython3",
   "version": "3.5.2"
  }
 },
 "nbformat": 4,
 "nbformat_minor": 0
}
