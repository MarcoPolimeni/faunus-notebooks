{
 "cells": [
  {
   "cell_type": "markdown",
   "metadata": {},
   "source": [
    "# Activity Coefficients in Electrolyte Solutions\n",
    "_Mikael Lund_"
   ]
  },
  {
   "cell_type": "code",
   "execution_count": 1,
   "metadata": {
    "collapsed": false
   },
   "outputs": [
    {
     "name": "stdout",
     "output_type": "stream",
     "text": [
      "/Users/mikael/github/faunus-notebooks/activity-coefficients\n"
     ]
    }
   ],
   "source": [
    "%matplotlib inline\n",
    "from __future__ import print_function\n",
    "import matplotlib as mpl\n",
    "import matplotlib.pyplot as plt\n",
    "import numpy as np, pandas as pd\n",
    "import mdtraj as md\n",
    "from math import sqrt, pi, exp\n",
    "import os.path, os, sys, json, filecmp, copy\n",
    "plt.rcParams.update({'font.size': 16, 'figure.figsize': [8.0, 6.0]})\n",
    "try:\n",
    "    workdir\n",
    "except NameError:\n",
    "    workdir=%pwd\n",
    "else:\n",
    "    %cd -q $workdir\n",
    "print(workdir)"
   ]
  },
  {
   "cell_type": "markdown",
   "metadata": {},
   "source": [
    "### Download and compile the MC software"
   ]
  },
  {
   "cell_type": "code",
   "execution_count": 26,
   "metadata": {
    "collapsed": false
   },
   "outputs": [
    {
     "name": "stdout",
     "output_type": "stream",
     "text": [
      "[ 36%] Built target xdrfile\n",
      "[ 81%] Built target libfaunus\n",
      "[100%] Built target excess\n"
     ]
    },
    {
     "name": "stderr",
     "output_type": "stream",
     "text": [
      "bash: line 1: fg: no job control\n",
      "bash: line 21: fg: no job control\n"
     ]
    }
   ],
   "source": [
    "%%bash -s \"$workdir\"\n",
    "%cd -q $1\n",
    "\n",
    "echo 'fau_example(excess \"./\" excess.cpp)' > mc/CMakeLists.txt\n",
    "\n",
    "# the following lines are for compilation on LUNARC\n",
    "#module add GCC/5.4.0-2.26\n",
    "#module load CMake/3.5.2\n",
    "#export CXX=/sw/easybuild/software/Core/GCCcore/5.4.0/bin/g++\n",
    "#export CC=/sw/easybuild/software/Core/GCCcore/5.4.0/bin/gcc\n",
    "\n",
    "if [ ! -d \"faunus/\" ]; then\n",
    "    git clone https://github.com/mlund/faunus.git\n",
    "    cd faunus\n",
    "    #git checkout a2220dc8f98606d2ceb42f14c6a08ec0723d8787\n",
    "else\n",
    "    cd faunus\n",
    "fi\n",
    "\n",
    "cmake . -DCMAKE_BUILD_TYPE=RelWithDebInfo -DENABLE_APPROXMATH=on -DMYPLAYGROUND=$1/mc &>/dev/null\n",
    "make excess -j4\n",
    "%cd $1"
   ]
  },
  {
   "cell_type": "markdown",
   "metadata": {},
   "source": [
    "### Simulation setup\n",
    "Wall time, number of cores etc. Currently for the slurm system."
   ]
  },
  {
   "cell_type": "code",
   "execution_count": 8,
   "metadata": {
    "collapsed": false
   },
   "outputs": [
    {
     "name": "stdout",
     "output_type": "stream",
     "text": [
      "Overwriting submit.sh\n"
     ]
    }
   ],
   "source": [
    "%%writefile submit.sh\n",
    "#!/bin/bash\n",
    "#SBATCH -N 1\n",
    "#SBATCH -n 1\n",
    "#SBATCH -t 03:00:00\n",
    "../mc/excess > out"
   ]
  },
  {
   "cell_type": "code",
   "execution_count": 19,
   "metadata": {
    "collapsed": false,
    "scrolled": true
   },
   "outputs": [],
   "source": [
    "salt_range = [0.1] #, 0.02, 0.04, 0.08, 0.16]"
   ]
  },
  {
   "cell_type": "code",
   "execution_count": 51,
   "metadata": {
    "collapsed": false,
    "scrolled": false
   },
   "outputs": [
    {
     "name": "stdout",
     "output_type": "stream",
     "text": [
      "/Users/mikael/github/faunus-notebooks/activity-coefficients/I0.1\n",
      "done.\n"
     ]
    }
   ],
   "source": [
    "%cd -q $workdir\n",
    "\n",
    "def mkinput():\n",
    "    js = {\n",
    "            \"moleculelist\": {\n",
    "                \"salt\": { \"Ninit\": 20, \"atomic\": True, \"atoms\": \"Na Cl\" }\n",
    "            }, \n",
    "            \"energy\": {\n",
    "                \"nonbonded\": { \"coulomb\": { \"epsr\": 80 } }\n",
    "            }, \n",
    "\n",
    "            \"moves\": {\n",
    "                \"atomtranslate\": { \"salt\": { \"permol\": True, \"prob\": 0.01 } }, \n",
    "                \"atomgc\": { \"molecule\": \"salt\" }\n",
    "            }, \n",
    "\n",
    "            \"system\": {\n",
    "                \"mcloop\"      : { \"macro\": 10, \"micro\": micro }, \n",
    "                \"cuboid\"      : { \"len\": 60 },\n",
    "                \"coulomb\"     : { \"epsr\": 80 },\n",
    "                \"temperature\" : 298.15\n",
    "            }, \n",
    "\n",
    "            \"atomlist\": {\n",
    "                \"Na\": { \"q\":  1.0, \"r\": 2.3, \"eps\":0.01, \"dp\": 50, \"activity\": salt }, \n",
    "                \"Cl\": { \"q\": -1.0, \"r\": 2.3, \"eps\":0.01, \"dp\": 50, \"activity\": salt }\n",
    "            }\n",
    "    }\n",
    "\n",
    "    with open('excess.json', 'w+') as f:\n",
    "        f.write(json.dumps(js, indent=4))\n",
    "\n",
    "# flow control:\n",
    "equilibration = True   # if true, delete state file and start over\n",
    "production    = True   # if true, start from present state file\n",
    "slurm         = False  # if true, submit production runs to slurm cluster\n",
    "override      = True   # if true, override existing files\n",
    "\n",
    "for salt in salt_range:      # loop over salt concentrations (activities)\n",
    "\n",
    "    # create/goto right directory\n",
    "    pfx='I'+str(salt)\n",
    "    if not os.path.isdir(pfx):\n",
    "        %mkdir -p $pfx\n",
    "    else:\n",
    "        if override==False:\n",
    "            break\n",
    "    %cd $pfx\n",
    "\n",
    "    # equilibration run\n",
    "    if equilibration:\n",
    "        !rm -fR state\n",
    "        micro=1000\n",
    "        mkinput()\n",
    "        !../mc/excess > eq 2>&1\n",
    "        !rm -fR analysis_out.json\n",
    "\n",
    "    # production run\n",
    "    if production:\n",
    "        micro=10000\n",
    "        mkinput()\n",
    "        if slurm:\n",
    "            !sbatch ../submit.sh > /dev/null\n",
    "        else:\n",
    "            !../mc/excess > out 2>&1\n",
    "\n",
    "    %cd -q ..\n",
    "\n",
    "print('done.')"
   ]
  },
  {
   "cell_type": "code",
   "execution_count": 72,
   "metadata": {
    "collapsed": false,
    "scrolled": true
   },
   "outputs": [
    {
     "name": "stdout",
     "output_type": "stream",
     "text": [
      "loading from saved pickle\n"
     ]
    }
   ],
   "source": [
    "%cd -q $workdir\n",
    "import json\n",
    "\n",
    "picklefile = 'data.p' \n",
    "\n",
    "if os.path.isfile( picklefile ):        # if pickle file exists, use that\n",
    "    print('loading from saved pickle')\n",
    "    sets = pd.read_pickle( picklefile )\n",
    "else:\n",
    "    print('loading from MC raw data')   # otherwise extract from MC output\n",
    "\n",
    "    data = {}\n",
    "    for salt in salt_range:\n",
    "        pfx='I'+str(salt)\n",
    "        d = {}\n",
    "        if os.path.isdir(pfx):\n",
    "            %cd -q $pfx            \n",
    "            results = json.load( open('move_out.json') )\n",
    "            j  = results['moves']['moves/atomgc']['atoms']\n",
    "            %cd -q ..\n",
    "\n",
    "            data[str(salt)] = pd.Series(j)\n",
    "    data = pd.Series(data)\n",
    "    data.to_pickle( picklefile )"
   ]
  },
  {
   "cell_type": "code",
   "execution_count": 73,
   "metadata": {
    "collapsed": false,
    "scrolled": true
   },
   "outputs": [
    {
     "name": "stdout",
     "output_type": "stream",
     "text": [
      "Cl 0.130271945436 0.767624983764\n",
      "Na 0.130271945436 0.767624983764\n"
     ]
    },
    {
     "data": {
      "text/plain": [
       "<matplotlib.figure.Figure at 0x110f90350>"
      ]
     },
     "metadata": {},
     "output_type": "display_data"
    }
   ],
   "source": [
    "f = plt.figure(figsize=(10,5))\n",
    "\n",
    "for salt, d in data.iteritems():\n",
    "    for ion, avg in d.iteritems():\n",
    "        avg = pd.Series(avg)\n",
    "        print(ion, avg.molarity, avg.gamma)\n",
    "    #plt.plot(d.pH, 0.5*np.array(d.C), label=r'$c_s=$'+salt+' M', lw=3, color=colors[salt])\n",
    "\n",
    "#plt.xlabel('pH')\n",
    "#plt.ylabel(r'Charge, $\\langle Z \\rangle$')\n",
    "#plt.legend(loc=0, frameon=False)\n",
    "#plt.ylim((-50, 100))\n",
    "#plt.xlim((3,11))\n",
    "#plt.minorticks_on()\n",
    "\n",
    "#f.tight_layout()\n",
    "\n",
    "#plt.savefig('dimer-vs-monomer.pdf', bbox_inches='tight')"
   ]
  },
  {
   "cell_type": "code",
   "execution_count": null,
   "metadata": {
    "collapsed": true
   },
   "outputs": [],
   "source": []
  }
 ],
 "metadata": {
  "kernelspec": {
   "display_name": "Python 2",
   "language": "python",
   "name": "python2"
  },
  "language_info": {
   "codemirror_mode": {
    "name": "ipython",
    "version": 2
   },
   "file_extension": ".py",
   "mimetype": "text/x-python",
   "name": "python",
   "nbconvert_exporter": "python",
   "pygments_lexer": "ipython2",
   "version": "2.7.11"
  }
 },
 "nbformat": 4,
 "nbformat_minor": 0
}
