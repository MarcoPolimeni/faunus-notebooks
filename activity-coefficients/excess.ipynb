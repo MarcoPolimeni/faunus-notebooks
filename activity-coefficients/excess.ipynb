{
 "cells": [
  {
   "cell_type": "markdown",
   "metadata": {},
   "source": [
    "# Activity Coefficients in Electrolyte Solutions\n",
    "_Max Hebditch and Mikael Lund, August 2016_\n",
    "\n",
    "In this notebook we estimate activity coefficients, $\\gamma$, of salts in aqueous solution using Grand Canonical Metropolis Monte Carlo simulations. The particles are modelled as charged Lennard-Jones particles immersed in a dielectric continuum. By varying particle radii, experimentally obtained values are matched for 1:1 and 1:3 salts:\n",
    "\n",
    "ion       | valency | radius (Å)\n",
    "----------| ------- | ------------\n",
    "sodium    | +1      | 2.3\n",
    "chloride  | -1      | 2.3\n",
    "citrate   | -3      | 3.5\n",
    "\n",
    "Note that the above values are for a combined Lennard-Jones/Coulomb potential and cannot be directly compared with previously radii fitted for the primitive model of electrolytes (hard spheres + Coulomb). See bottom of the page for more details."
   ]
  },
  {
   "cell_type": "code",
   "execution_count": 1,
   "metadata": {
    "collapsed": false
   },
   "outputs": [
    {
     "name": "stdout",
     "output_type": "stream",
     "text": [
      "/Users/mikael/github/faunus-notebooks/activity-coefficients\n"
     ]
    }
   ],
   "source": [
    "import matplotlib as mpl\n",
    "import matplotlib.pyplot as plt\n",
    "%matplotlib inline\n",
    "import numpy as np, pandas as pd\n",
    "from math import sqrt, pi, exp\n",
    "import os.path, os, sys, json\n",
    "try:\n",
    "    workdir\n",
    "except NameError:\n",
    "    workdir=%pwd\n",
    "else:\n",
    "    %cd -q $workdir\n",
    "print(workdir)"
   ]
  },
  {
   "cell_type": "markdown",
   "metadata": {},
   "source": [
    "### Download and compile the MC software\n",
    "\n",
    "This will download the free Monte Carlo software _Faunus_; check out the version we used; and compile it (C++ compiler and CMake required)"
   ]
  },
  {
   "cell_type": "code",
   "execution_count": 2,
   "metadata": {
    "collapsed": false
   },
   "outputs": [
    {
     "name": "stdout",
     "output_type": "stream",
     "text": [
      "[ 36%] Built target xdrfile\n",
      "[ 81%] Built target libfaunus\n",
      "[100%] Built target excess\n"
     ]
    },
    {
     "name": "stderr",
     "output_type": "stream",
     "text": [
      "bash: line 1: fg: no job control\n",
      "bash: line 15: fg: no job control\n"
     ]
    }
   ],
   "source": [
    "%%bash -s \"$workdir\"\n",
    "%cd -q $1\n",
    "\n",
    "echo 'fau_example(excess \"./\" excess.cpp)' > mc/CMakeLists.txt\n",
    "\n",
    "if [ ! -d \"faunus/\" ]; then\n",
    "    git clone https://github.com/mlund/faunus.git\n",
    "    cd faunus\n",
    "    git checkout 78e8887749786510f09d265f5ef2651a143a39ce\n",
    "else\n",
    "    cd faunus\n",
    "fi\n",
    "\n",
    "cmake . -DCMAKE_BUILD_TYPE=Release -DENABLE_APPROXMATH=on -DMYPLAYGROUND=$1/mc &>/dev/null\n",
    "make excess -j4\n",
    "%cd $1"
   ]
  },
  {
   "cell_type": "markdown",
   "metadata": {},
   "source": [
    "### Simulation setup\n",
    "Wall time, number of cores etc. Currently for the slurm system."
   ]
  },
  {
   "cell_type": "code",
   "execution_count": 3,
   "metadata": {
    "collapsed": false,
    "scrolled": true
   },
   "outputs": [],
   "source": [
    "# definition of salts (n=stoichiometry; z=valency; r=radius; L=box length; activities in mol/l)\n",
    "salts = pd.Series(\n",
    "    {\n",
    "        'NaCl' : pd.Series(\n",
    "            dict(ion1='Na', ion2='Cl', n1=1, n2=1, z1=1, z2=-1, r1=2.2, r2=2.2, L=50,\n",
    "                 activities=np.arange(0.1,1.6,0.05), exp='exp-nacl-coeff.csv',\n",
    "                 color='red', label=u'NaCl' ) ),\n",
    "        'Na3Cit' : pd.Series(\n",
    "            dict(ion1='Na', ion2='Cit', n1=3, n2=1, z1=1, z2=-3, r1=2.3, r2=3.5, L=100,\n",
    "                 activities=np.arange(0.005,0.1,0.005), exp='exp-na3cit-coeff.csv',\n",
    "                 color='blue', label=u'Na$_3$(C$_6$H$_5$O$_7$)' ) )\n",
    "    }\n",
    ")"
   ]
  },
  {
   "cell_type": "code",
   "execution_count": 4,
   "metadata": {
    "collapsed": false,
    "scrolled": false
   },
   "outputs": [
    {
     "name": "stdout",
     "output_type": "stream",
     "text": [
      "done.\n"
     ]
    }
   ],
   "source": [
    "%cd -q $workdir\n",
    "\n",
    "def mkinput():\n",
    "    js = {\n",
    "            \"moleculelist\": {\n",
    "                \"salt\": { \"Ninit\": 20, \"atomic\": True, \"atoms\": d.n1*(d.ion1+' ') + d.n2*(d.ion2+' ') }\n",
    "            }, \n",
    "            \"energy\": {\n",
    "                \"nonbonded\": { \"coulomb\": { \"epsr\": 80 } }\n",
    "            }, \n",
    "            \"moves\": {\n",
    "                \"atomtranslate\": { \"salt\": { \"permol\": True, \"prob\": 0.01 } }, \n",
    "                \"atomgc\": { \"molecule\": \"salt\" }\n",
    "            }, \n",
    "            \"system\": {\n",
    "                \"mcloop\"      : { \"macro\": 10, \"micro\": micro }, \n",
    "                \"cuboid\"      : { \"len\": d.L },\n",
    "                \"coulomb\"     : { \"epsr\": 80 },\n",
    "                \"temperature\" : 298.15\n",
    "            }, \n",
    "            \"atomlist\": {\n",
    "                d.ion1: { \"q\": d.z1, \"r\": d.r1, \"eps\":0.01, \"dp\": 50, \"activity\": d.n1*activity }, \n",
    "                d.ion2: { \"q\": d.z2, \"r\": d.r2, \"eps\":0.01, \"dp\": 50, \"activity\": d.n2*activity }\n",
    "            }\n",
    "    }\n",
    "\n",
    "    with open('excess.json', 'w+') as f:\n",
    "        f.write(json.dumps(js, indent=4))\n",
    "\n",
    "# flow control:\n",
    "equilibration = True   # if true, delete state file and start over\n",
    "production    = True   # if true, start from present state file\n",
    "override      = False  # if true, override existing files\n",
    "\n",
    "for salt, d in salts.iteritems():\n",
    "    for activity in d.activities:\n",
    "        \n",
    "        pfx=salt+'-a'+str(activity)\n",
    "        if not os.path.isdir(pfx):\n",
    "            %mkdir -p $pfx\n",
    "        else:\n",
    "            if override==False:\n",
    "                break\n",
    "        %cd $pfx\n",
    "\n",
    "        # equilibration run\n",
    "        if equilibration:\n",
    "            !rm -fR state\n",
    "            micro=5000\n",
    "            mkinput()\n",
    "            !../mc/excess > eq 2>&1\n",
    "            !rm -fR analysis_out.json\n",
    "\n",
    "        # production run\n",
    "        if production:\n",
    "            micro=50000\n",
    "            mkinput()\n",
    "            !../mc/excess > out 2>&1\n",
    "\n",
    "        %cd -q ..\n",
    "\n",
    "print('done.')"
   ]
  },
  {
   "cell_type": "markdown",
   "metadata": {},
   "source": [
    "### Analysis\n",
    "\n",
    "The simulation output of the Grand Canonical move statistics contain information about the excess chemical potential and is stored in the file `move_out.json`. In the following we read this data and store it in a Pandas object."
   ]
  },
  {
   "cell_type": "code",
   "execution_count": 5,
   "metadata": {
    "collapsed": false,
    "scrolled": true
   },
   "outputs": [
    {
     "data": {
      "text/plain": [
       "L                                                            50\n",
       "activities    [0.1, 0.15, 0.2, 0.25, 0.3, 0.35, 0.4, 0.45, 0...\n",
       "color                                                       red\n",
       "exp                                          exp-nacl-coeff.csv\n",
       "ion1                                                         Na\n",
       "ion2                                                         Cl\n",
       "label                                                      NaCl\n",
       "n1                                                            1\n",
       "n2                                                            1\n",
       "r1                                                          2.2\n",
       "r2                                                          2.2\n",
       "z1                                                            1\n",
       "z2                                                           -1\n",
       "g1            [0.759159168158639, 0.724636620882271, 0.70350...\n",
       "g2            [0.759159168158639, 0.724636620882271, 0.70350...\n",
       "dtype: object"
      ]
     },
     "execution_count": 5,
     "metadata": {},
     "output_type": "execute_result"
    }
   ],
   "source": [
    "%cd -q $workdir\n",
    "import json\n",
    "\n",
    "for salt, d in salts.items():\n",
    "    d['g1'] = []\n",
    "    d['g2'] = []\n",
    "    for activity in d.activities:\n",
    "        pfx=salt+'-a'+str(activity)\n",
    "\n",
    "        if os.path.isdir(pfx):\n",
    "            %cd -q $pfx\n",
    "            r = json.load( open('move_out.json') )['moves']['moves/atomgc']['atoms']\n",
    "            d['g1'].append( r[d.ion1]['gamma'] )\n",
    "            d['g2'].append( r[d.ion2]['gamma'] )\n",
    "            %cd -q ..\n",
    "salts.NaCl"
   ]
  },
  {
   "cell_type": "markdown",
   "metadata": {},
   "source": [
    "### Plot mean activity coefficients\n",
    "\n",
    "For compound $M_pX_q$, the mean ionic activity coefficient is $ \\gamma_{\\pm} = \\sqrt[q+p]{ \\gamma_M^p \\gamma_X^q}$. Note that the experimental data is in _molality_, i.e. moles salt per kilo solvent and should in principle be converted to the molarity scale as outlined in i.e. Robinson and Stokes classic book. We ignore this here as the intended use for the model is for sub-molar concentrations. All salt concentrations are converted to the ionic strength, $I=\\frac{1}{2}\\sum c_i z_i^2$ where $c$ are molar concentrations, $z$ valencies."
   ]
  },
  {
   "cell_type": "code",
   "execution_count": 6,
   "metadata": {
    "collapsed": false,
    "scrolled": true
   },
   "outputs": [
    {
     "name": "stdout",
     "output_type": "stream",
     "text": [
      "\n"
     ]
    },
    {
     "data": {
      "image/png": "[encoded data removed]",
      "text/plain": [
       "<matplotlib.figure.Figure at 0x118860128>"
      ]
     },
     "metadata": {},
     "output_type": "display_data"
    }
   ],
   "source": [
    "%cd -q $workdir\n",
    "def ionicstrength(c, n1, n2, z1, z2):\n",
    "    return 0.5*( n1*c*z1**2 + n2*c*z2**2 )\n",
    "\n",
    "def meanactivity(gA, gB, p, q):\n",
    "    ''' mean ionic activity coefficient'''\n",
    "    return ( gA**p * gB**q ) ** (1.0/(p+q))\n",
    "\n",
    "for salt, d in salts.iteritems():\n",
    "    # experiment\n",
    "    C, g = np.loadtxt(d.exp, delimiter=',', skiprows=1, unpack=True)\n",
    "    I = ionicstrength( C, d.n1, d.n2, d.z1, d.z2)\n",
    "    plt.plot(I, g, marker='o', ls='none', color=d.color)\n",
    "    \n",
    "    # simulation\n",
    "    g = meanactivity( np.array(d.g1), np.array(d.g2), d.n1, d.n2 )\n",
    "    C = d.activities / g # molarity\n",
    "    I = ionicstrength(C, d.n1, d.n2, d.z1, d.z2)\n",
    "    \n",
    "    plt.plot( I, g, label=d.label, lw=2, color=d.color)\n",
    "\n",
    "plt.legend(loc=0, frameon=False)\n",
    "plt.ylabel('Mean activity coefficient, $\\gamma_{\\pm}$')\n",
    "plt.xlabel('Ionic strength (M)')\n",
    "plt.xlim((0.02,1.6))\n",
    "plt.title('Experiment (symbols) vs simulation (lines)')\n",
    "print('')"
   ]
  },
  {
   "cell_type": "markdown",
   "metadata": {},
   "source": [
    "### Pair potential between ions\n",
    "\n",
    "The MC simulation uses a pair potential that is a mix of Lennard-Jones plus a Coulomb interaction with a high dielectric background. The particle radii are therefore _not_ just the normal interpretation as in LJ as is illustrated for the distance of closest approach between a cation and anion below."
   ]
  },
  {
   "cell_type": "code",
   "execution_count": 7,
   "metadata": {
    "collapsed": false
   },
   "outputs": [
    {
     "data": {
      "text/plain": [
       "<matplotlib.text.Annotation at 0x11d1adf28>"
      ]
     },
     "execution_count": 7,
     "metadata": {},
     "output_type": "execute_result"
    },
    {
     "data": {
      "image/png": "[encoded data removed]",
      "text/plain": [
       "<matplotlib.figure.Figure at 0x118873e10>"
      ]
     },
     "metadata": {},
     "output_type": "display_data"
    }
   ],
   "source": [
    "from scipy.optimize import newton\n",
    "\n",
    "lB=7           # Bjerrum length for water (Å)\n",
    "s=2*2.2        # sigma (Å)\n",
    "eps=0.01 / 2.5 # epsilon (kT)\n",
    "r = np.linspace(0.64*s, 2*s, 100)\n",
    "\n",
    "def el(r): return -lB/r                        # Coulomb pot.\n",
    "def lj(r): return 4*eps*( (s/r)**12-(s/r)**6 ) # Lennard-Jones pot.\n",
    "def u(r): return lj(r) + el(r)                 # combined pot.\n",
    "\n",
    "plt.plot(r, lj(r), 'r.', label='LJ', markersize=4 )\n",
    "plt.plot(r, el(r), label='Coulomb', lw=2)\n",
    "plt.plot(r, u(r), label='LJ+Coulomb', lw=2 )\n",
    "plt.xlabel(u'$r$/Å')\n",
    "plt.ylabel(u'$u(r)/k_BT$')\n",
    "plt.legend(loc=0, frameon=False)\n",
    "\n",
    "r0 = newton(u, x0=0.5*s) # when is u(r) zero?\n",
    "plt.plot([r0], [0], 'go')\n",
    "plt.annotate( '$r_0=$'+str('%.1f' % r0)+u' Å', xy=(r0, 0), xytext=(r0+1, -0.8),\n",
    "             arrowprops=dict(facecolor='green', width=2, headwidth=6, edgecolor='none', shrink=0.1) )\n",
    "\n",
    "plt.plot([s], [0], 'ro')\n",
    "plt.annotate( '$r_0=$'+str('%.1f' % s)+u' Å', xy=(s, 0), xytext=(s+1, 0.8),\n",
    "             arrowprops=dict(facecolor='red', width=2, headwidth=6, edgecolor='none', shrink=0.1) )"
   ]
  },
  {
   "cell_type": "code",
   "execution_count": null,
   "metadata": {
    "collapsed": true
   },
   "outputs": [],
   "source": []
  }
 ],
 "metadata": {
  "kernelspec": {
   "display_name": "Python 3",
   "language": "python",
   "name": "python3"
  },
  "language_info": {
   "codemirror_mode": {
    "name": "ipython",
    "version": 3
   },
   "file_extension": ".py",
   "mimetype": "text/x-python",
   "name": "python",
   "nbconvert_exporter": "python",
   "pygments_lexer": "ipython3",
   "version": "3.5.2"
  }
 },
 "nbformat": 4,
 "nbformat_minor": 0
}
