{
 "cells": [
  {
   "cell_type": "markdown",
   "metadata": {},
   "source": [
    "# Grand Canonical Monte Carlo of atomic species using tabulated pair potentials"
   ]
  },
  {
   "cell_type": "code",
   "execution_count": 2,
   "metadata": {
    "collapsed": false
   },
   "outputs": [
    {
     "name": "stdout",
     "output_type": "stream",
     "text": [
      "/Users/mikael/github/faunus-notebooks/tabulated-potential\n"
     ]
    }
   ],
   "source": [
    "from __future__ import division, unicode_literals, print_function\n",
    "import matplotlib as mpl\n",
    "import matplotlib.pyplot as plt\n",
    "%matplotlib inline\n",
    "import numpy as np, pandas as pd\n",
    "import os.path, os, sys, json, filecmp, copy\n",
    "plt.rcParams.update({'font.size': 16, 'figure.figsize': [8.0, 6.0]})\n",
    "try:\n",
    "    workdir\n",
    "except NameError:\n",
    "    workdir=%pwd\n",
    "else:\n",
    "    %cd $workdir\n",
    "print(workdir)"
   ]
  },
  {
   "cell_type": "markdown",
   "metadata": {},
   "source": [
    "### Download and build faunus"
   ]
  },
  {
   "cell_type": "code",
   "execution_count": 7,
   "metadata": {
    "collapsed": false
   },
   "outputs": [
    {
     "name": "stdout",
     "output_type": "stream",
     "text": [
      "/Users/mikael/github/faunus-notebooks/tabulated-potential/faunus\n",
      "[ 36%] Built target xdrfile\n",
      "[ 81%] Built target libfaunus\n",
      "Scanning dependencies of target example_grand\n",
      "[ 90%] Building CXX object src/examples/CMakeFiles/example_grand.dir/grand.cpp.o\n",
      "[100%] Linking CXX executable grand\n",
      "[100%] Built target example_grand\n"
     ]
    }
   ],
   "source": [
    "%%bash -s \"$workdir\"\n",
    "cd $1\n",
    "\n",
    "if [ ! -d \"faunus/\" ]; then\n",
    "    git clone https://github.com/mlund/faunus.git\n",
    "    cd faunus\n",
    "    #git checkout a0f0b46\n",
    "else\n",
    "    cd faunus\n",
    "fi\n",
    "\n",
    "# if different, copy custom grand.cpp into faunus\n",
    "if ! cmp ../grand.cpp src/examples/grand.cpp >/dev/null 2>&1\n",
    "then\n",
    "    cp ../grand.cpp src/examples/\n",
    "fi\n",
    "\n",
    "pwd\n",
    "CXX=clang++ CC=clang cmake . -DCMAKE_BUILD_TYPE=RelWithDebInfo -DENABLE_APPROXMATH=on &>/dev/null\n",
    "make example_grand -j4"
   ]
  },
  {
   "cell_type": "markdown",
   "metadata": {},
   "source": [
    "### Generate an artificial, tabulated potential\n",
    "\n",
    "This is just a damped sinus curve to which we later on will add a Coulomb potential. The idea is to replace this with a cation-anion \"fingerprint\" from all-atom MD. That is a PMF, where the long ranged Coulomb part has been subtracted."
   ]
  },
  {
   "cell_type": "code",
   "execution_count": 4,
   "metadata": {
    "collapsed": false
   },
   "outputs": [
    {
     "data": {
      "image/png": "[encoded data removed]",
      "text/plain": [
       "<matplotlib.figure.Figure at 0x10ad4c350>"
      ]
     },
     "metadata": {},
     "output_type": "display_data"
    }
   ],
   "source": [
    "r = np.arange(0, 200, 0.1)\n",
    "u = np.sin(r)*np.exp(-r/6)\n",
    "plt.plot(r, u)\n",
    "d = np.dstack((r,u))\n",
    "np.savetxt('cation-anion.dat', np.c_[r,u])"
   ]
  },
  {
   "cell_type": "markdown",
   "metadata": {},
   "source": [
    "### Generate input and run simulation"
   ]
  },
  {
   "cell_type": "code",
   "execution_count": 10,
   "metadata": {
    "collapsed": false
   },
   "outputs": [
    {
     "name": "stdout",
     "output_type": "stream",
     "text": [
      "/Users/mikael/github/faunus-notebooks/tabulated-potential\n",
      "/Users/mikael/github/faunus-notebooks/tabulated-potential/Cs0.1\n",
      "State file not found.\n",
      "Warning: energy change from move returns not-a-number (NaN)\n",
      "Warning: energy change from move returns not-a-number (NaN)\n",
      "Reading space state file 'state'. OK!\n",
      "  Resizing particle vector from 100 --> 16.\n",
      "  Read 16 particle(s).\n",
      "  Read 1 group(s).\n",
      "  Restoring random number generator state.\n",
      "\n",
      " .................\n",
      "  Atom Properties  \n",
      " *****************\n",
      "  Number of entries:       3\n",
      "  Element info:\n",
      "    unk   an    cat   \n",
      "\n",
      " ...............................\n",
      "  Simulation Space and Geometry  \n",
      " *******************************\n",
      "  Boundary                 Cuboid\n",
      "  Volume                   125000 Å³ = 125 nm³ = 1.25e-22 liters\n",
      "  Sidelengths              50 50 50 (Å)\n",
      "  Scale directions         XYZ\n",
      "  Number of particles      16\n",
      "  Electroneutrality        Yes 0\n",
      "  System sanity check      Passed\n",
      "  Number of molecule types 1\n",
      "  Groups:\n",
      "    1     [0-15]           salt        N/V = 0.000128 Å⁻³ = 212.549 mM  \n",
      "\n",
      " ..........................................\n",
      "  Energy: Nonbonded N² - pairpotentialmap  \n",
      " ******************************************\n",
      "  Rmin                4\n",
      "  Rmax                100\n",
      "  Utol                0.01\n",
      "  Ftol                -1\n",
      "  Umaxtol             -1\n",
      "  Fmaxtol             -1\n",
      "\n",
      "Lennard-Jones w. Lorentz-Berthelot Mixing:\n",
      "an-an cat-cat \n",
      "\n",
      "fromdisk:  [0:199.9]:\n",
      "an-cat \n",
      "\n",
      "\n",
      "  Steps:    1 / 1000        Macrosteps/min: 3750    ETA: Tue Mar 15 16:14:23 2016\n",
      "  Steps:    2 / 2000        Macrosteps/min: 3529    ETA: Tue Mar 15 16:14:23 2016\n",
      "  Steps:    3 / 3000        Macrosteps/min: 3529    ETA: Tue Mar 15 16:14:23 2016\n",
      "  Steps:    4 / 4000        Macrosteps/min: 3529    ETA: Tue Mar 15 16:14:23 2016\n",
      "  Steps:    5 / 5000        Macrosteps/min: 3529    ETA: Tue Mar 15 16:14:23 2016\n",
      "  Steps:    6 / 6000        Macrosteps/min: 3333    ETA: Tue Mar 15 16:14:23 2016\n",
      "  Steps:    7 / 7000        Macrosteps/min: 3529    ETA: Tue Mar 15 16:14:23 2016\n",
      "  Steps:    8 / 8000        Macrosteps/min: 3529    ETA: Tue Mar 15 16:14:23 2016\n",
      "  Steps:    9 / 9000        Macrosteps/min: 3529    ETA: Tue Mar 15 16:14:23 2016\n",
      "  Steps:   10 / 10000       Macrosteps/min: 3529    ETA: Tue Mar 15 16:14:23 2016\n",
      "Writing to file 'confout.pqr'. OK!\n",
      "  Writing space state file 'state'. OK!\n",
      "\n",
      " ...................\n",
      "  MC Steps and Time  \n",
      " *******************\n",
      "  Steps (macro micro tot)  10∙1000 = 10000\n",
      "  Time elapsed             0 min = 0 h\n",
      "\n",
      " .........................\n",
      "  System Energy and Drift  \n",
      " *************************\n",
      "  Average                  -0.290931 kT, σ=0.39317\n",
      "  Initial energy           -0.501547 kT\n",
      "  Initial + changes        -0.316172 kT\n",
      "  Total energy drift       -4.219e-15 kT (1.334e-12﹪)\n",
      "\n",
      " ....................................\n",
      "  Markov Move: P R O P A G A T O R S  \n",
      " ************************************\n",
      "\n",
      " ...................................\n",
      "  Markov Move: Grand Canonical Salt  \n",
      " ***********************************\n",
      "  Number of trials              5021\n",
      "  Relative time consumption     0.151814\n",
      "  Acceptance                    76.3394﹪\n",
      "  Runfraction                   100﹪\n",
      "  Total energy change           -22.3806 kT\n",
      "  Number of GC species          \n",
      "\n",
      "    Ion       activity  ⟨c/M⟩     ⟨ɣ±⟩      ⟨N⟩       \n",
      "    an        0.1       0.092927  1.0761    6.9952    \n",
      "    cat       0.1       0.092927  1.0761    6.9952    \n",
      "\n",
      " ..........................................\n",
      "  Markov Move: Single Particle Translation  \n",
      " ******************************************\n",
      "  Number of trials              69500\n",
      "  Relative time consumption     0.715403\n",
      "  Acceptance                    90.6432﹪\n",
      "  Runfraction                   100﹪\n",
      "  Total energy change           22.566 kT\n",
      "  Average moves/particle        4633\n",
      "  Displacement vector           1 1 1\n",
      "\n",
      "  Individual particle movement:\n",
      "\n",
      "           dp    Acc. ﹪     Nmoves      ⟨r²⟩/Å²     √⟨r²⟩/Å\n",
      "    an     10    91.3        34654       22.7        4.77        \n",
      "    cat    40    90          34846       360         19          \n",
      "\n",
      " .........................................\n",
      "  Analysis: Multi Particle Widom Analysis  \n",
      " *****************************************\n",
      "  Reference:                    doi:10/dkv4s6\n",
      "  Sample interval               0\n",
      "  Number of sample events       10000\n",
      "  Number of insertions          10000\n",
      "  Excess chemical pot.          -0.000718813 kT\n",
      "  Mean activity coefficient     0.999281\n",
      "  Ghost particles               an cat \n",
      "CPU times: user 4.28 ms, sys: 5.56 ms, total: 9.84 ms\n",
      "Wall time: 312 ms\n",
      "/Users/mikael/github/faunus-notebooks/tabulated-potential\n",
      "done.\n"
     ]
    }
   ],
   "source": [
    "%cd $workdir\n",
    "\n",
    "def mkinput():\n",
    "    js = {\n",
    "        \"atomlist\" : {\n",
    "            \"cat\" : { \"eps\": 0.15, \"sigma\":4.0, \"dp\":40, \"activity\":Cs, \"q\":1.0 },\n",
    "            \"an\"  : { \"eps\": 0.20, \"sigma\":4.0, \"dp\":10, \"activity\":Cs, \"q\":-1.0 }\n",
    "        },\n",
    "        \"moleculelist\" : { \n",
    "            \"salt\" : { \"atoms\":\"cat an\", \"atomic\":True, \"Ninit\":50 }\n",
    "        },\n",
    "        \"moves\" : {\n",
    "            \"atomtranslate\" : {\n",
    "                \"salt\" : { \"peratom\":True }\n",
    "            },\n",
    "            \"atomgc\": { \"molecule\": \"salt\" }\n",
    "        },\n",
    "        \"energy\" : {\n",
    "            \"nonbonded\" : {\n",
    "                \"pairpotentialmap\" : {\n",
    "                    \"spline\" : { \"rmin\":4.0, \"rmax\":100, \"utol\":0.01  },\n",
    "                    \"cat an\" : {\n",
    "                        \"fromdisk\" : \"../cation-anion.dat\",\n",
    "                        \"_coulomb\" : { \"epsr\": 80.0 }\n",
    "                    },\n",
    "                    \"default\" : {\n",
    "                        \"lennardjones\" : {}\n",
    "                    }\n",
    "                }\n",
    "            }\n",
    "        },\n",
    "        \"system\" : {\n",
    "            \"temperature\" : 298.15,\n",
    "            \"cuboid\" : { \"len\":50 },\n",
    "            \"mcloop\": { \"macro\": 10, \"micro\": micro }\n",
    "        }\n",
    "    }\n",
    "    with open('gc.json', 'w+') as f:\n",
    "        f.write(json.dumps(js, indent=4))\n",
    "\n",
    "Cs_range = [0.1]\n",
    "        \n",
    "for Cs in Cs_range:\n",
    "    pfx='Cs'+str(Cs)\n",
    "    if True: #not os.path.isdir(pfx):\n",
    "        %mkdir -p $pfx\n",
    "        %cd $pfx\n",
    "        # equilibration run (no translation)\n",
    "        !rm -fR state\n",
    "        micro=1000\n",
    "        mkinput()\n",
    "        !../faunus/src/examples/grand > eq\n",
    "        \n",
    "        # production run\n",
    "        micro=1000\n",
    "        mkinput()\n",
    "        %time !../faunus/src/examples/grand\n",
    "        %cd ..\n",
    "print('done.')"
   ]
  },
  {
   "cell_type": "code",
   "execution_count": null,
   "metadata": {
    "collapsed": true
   },
   "outputs": [],
   "source": []
  }
 ],
 "metadata": {
  "kernelspec": {
   "display_name": "Python 2",
   "language": "python",
   "name": "python2"
  },
  "language_info": {
   "codemirror_mode": {
    "name": "ipython",
    "version": 2
   },
   "file_extension": ".py",
   "mimetype": "text/x-python",
   "name": "python",
   "nbconvert_exporter": "python",
   "pygments_lexer": "ipython2",
   "version": "2.7.11"
  }
 },
 "nbformat": 4,
 "nbformat_minor": 0
}
