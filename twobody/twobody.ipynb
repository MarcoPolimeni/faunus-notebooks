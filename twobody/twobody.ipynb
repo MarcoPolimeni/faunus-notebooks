{
 "cells": [
  {
   "cell_type": "markdown",
   "metadata": {
    "slideshow": {
     "slide_type": "-"
    }
   },
   "source": [
    "# Interaction between two rigid bodies in a salt solution\n",
    "\n",
    "This will simulated two rigid bodies confined on the length axis of a cylinder with hard ends. We use a continuum solvent and explicit, soft spheres for salt particles which are treated grand canonically. During simulation, the rigid bodies rotate and symmetrically translate around the center of the cylinder. Titratable sites are updated with swap moves.\n",
    "\n",
    "\n",
    "### System Requirements\n",
    "This Jupyter Notebook was originally run in MacOS 10.11 with `GCC 4.8`, `Python2`, `matplotlib`, `pandas` within the Anaconda environment. Contemporary Linux distributions such as Ubuntu 14.04 should work as well."
   ]
  },
  {
   "cell_type": "markdown",
   "metadata": {},
   "source": [
    "### Download and build Faunus\n",
    "\n",
    "We use a custom Metropolis Monte Carlo (MC) program build within the [Faunus framework](http://github.com/mlund/faunus.git). The sections below will fetch the complete faunus project and compile the program."
   ]
  },
  {
   "cell_type": "code",
   "execution_count": 1,
   "metadata": {
    "collapsed": false
   },
   "outputs": [
    {
     "name": "stdout",
     "output_type": "stream",
     "text": [
      "/Users/mikael/github/faunus-notebooks/twobody\n"
     ]
    }
   ],
   "source": [
    "from __future__ import division, unicode_literals, print_function\n",
    "import matplotlib as mpl\n",
    "import matplotlib.pyplot as plt\n",
    "%matplotlib inline\n",
    "import numpy as np, pandas as pd\n",
    "import os.path, os, sys, json, filecmp, copy\n",
    "plt.rcParams.update({'font.size': 16, 'figure.figsize': [8.0, 6.0]})\n",
    "try:\n",
    "    workdir\n",
    "except NameError:\n",
    "    workdir=%pwd\n",
    "else:\n",
    "    %cd $workdir\n",
    "print(workdir)"
   ]
  },
  {
   "cell_type": "code",
   "execution_count": 2,
   "metadata": {
    "collapsed": false
   },
   "outputs": [
    {
     "name": "stdout",
     "output_type": "stream",
     "text": [
      "/Users/mikael/github/faunus-notebooks/twobody/faunus\n",
      "[ 36%] Built target xdrfile\n",
      "[ 81%] Built target libfaunus\n",
      "[100%] Built target example_gctit\n"
     ]
    }
   ],
   "source": [
    "%%bash -s \"$workdir\"\n",
    "cd $1\n",
    "\n",
    "# if different, copy custom gctit.cpp into faunus\n",
    "if ! cmp mc/gctit.cpp faunus/src/examples/gctit.cpp >/dev/null 2>&1\n",
    "then\n",
    "    cp mc/gctit.cpp faunus/src/examples/\n",
    "fi\n",
    "\n",
    "if [ ! -d \"faunus/\" ]; then\n",
    "    git clone https://github.com/mlund/faunus.git\n",
    "    cd faunus\n",
    "    git checkout a0f0b46\n",
    "else\n",
    "    cd faunus\n",
    "fi\n",
    "pwd\n",
    "CXX=clang++ CC=clang cmake . -DCMAKE_BUILD_TYPE=Release -DENABLE_APPROXMATH=on &>/dev/null\n",
    "make example_gctit -j4"
   ]
  },
  {
   "cell_type": "markdown",
   "metadata": {},
   "source": [
    "### Create Input and run MC simulation"
   ]
  },
  {
   "cell_type": "code",
   "execution_count": 3,
   "metadata": {
    "collapsed": false
   },
   "outputs": [],
   "source": [
    "pH_range       = [7.0]\n",
    "salt_range     = [0.03] # mol/l\n",
    "macroion_range = ['N20-R10.0.pqr', 'N20-R10.0-central.pqr']\n",
    "dptrans_range  = [3]    # translational displacement\n",
    "dprot          = 0.5    # rotational displacement"
   ]
  },
  {
   "cell_type": "code",
   "execution_count": 4,
   "metadata": {
    "collapsed": false
   },
   "outputs": [
    {
     "name": "stdout",
     "output_type": "stream",
     "text": [
      "/Users/mikael/github/faunus-notebooks/twobody/mc\n",
      "/Users/mikael/github/faunus-notebooks/twobody\n",
      "done.\n"
     ]
    }
   ],
   "source": [
    "%cd $workdir'/mc'\n",
    "\n",
    "def mkinput():\n",
    "    js = {\n",
    "        \"energy\": {\n",
    "            \"eqstate\": { \"processfile\": \"gctit.json\" },\n",
    "            \"nonbonded\": {\n",
    "                \"coulomb\": { \"epsr\": 80, \"ionicstrength\":1e-20 },\n",
    "                \"ljsimple\": { \"eps\": 0.005 }\n",
    "            },\n",
    "            \"cmconstrain\" : {\n",
    "                \"protein1 protein2\" : { \"mindist\": 20, \"maxdist\": 30 }\n",
    "            }\n",
    "        },\n",
    "\n",
    "        \"system\": {\n",
    "            \"temperature\": 298.15,\n",
    "            \"cylinder\" : { \"length\" : cyllength, \"radius\" : 35 },\n",
    "            \"mcloop\": { \"macro\": 10, \"micro\": micro }\n",
    "        },\n",
    "\n",
    "        \"moves\": {\n",
    "            \"gctit\"         : { \"molecule\": \"salt\", \"prob\": 0.5 },\n",
    "            \"moltransrot2body\" : {\n",
    "                \"protein1\" : { \"dp\":dptrans, \"dprot\":dprot }, \n",
    "                \"protein2\" : { \"dp\":dptrans, \"dprot\":dprot } \n",
    "            },\n",
    "            \"atomtranslate\" : {\n",
    "                \"salt\":  { \"prob\": 0.5 }\n",
    "            }\n",
    "        },\n",
    "\n",
    "        \"moleculelist\": {\n",
    "            \"protein1\":  { \"structure\":macroion, \"Ninit\":1, \"insdir\":\"0 0 0\", \"insoffset\":\"0 0 -11\"},\n",
    "            \"protein2\":  { \"structure\":macroion, \"Ninit\":1, \"insdir\":\"0 0 0\", \"insoffset\":\"0 0 11\"},\n",
    "            \"salt\": {\"atoms\":\"Na Cl\", \"Ninit\":60, \"atomic\":True }\n",
    "        },\n",
    "\n",
    "        \"atomlist\" : {\n",
    "            \"Na\"   :  { \"q\": 1, \"r\":1.9, \"mw\":22.99, \"dp\":100, \"activity\":salt },\n",
    "            \"Cl\"   :  { \"q\":-1, \"r\":1.7, \"mw\":35.45, \"dp\":100, \"activity\":salt },\n",
    "            \"NN\"   :  { \"q\": 0.5,  \"r\":0.1, \"mw\":1 },\n",
    "            \"NF\"   :  { \"q\": -0.5, \"r\":0.1, \"mw\":1 },\n",
    "            \"He\"   :  { \"q\": 0, \"r\":0.5, \"mw\":100000 },\n",
    "            \"I\"    :  { \"q\":-1, \"r\":2.0, \"mw\":1 },\n",
    "            \"SCN\"  :  { \"q\":-1, \"r\":2.0, \"mw\":1 },\n",
    "            \"ASP\"  :  { \"q\":-1, \"r\":3.6, \"mw\":110 },\n",
    "            \"HASP\" :  { \"q\":0,  \"r\":3.6, \"mw\":110 },\n",
    "            \"LASP\" :  { \"q\":2,  \"r\":3.6, \"mw\":110 },\n",
    "            \"CTR\"  :  { \"q\":-1, \"r\":2.0, \"mw\":16 },\n",
    "            \"HCTR\" :  { \"q\":0,  \"r\":2.0, \"mw\":16 },\n",
    "            \"GLU\"  :  { \"q\":-1, \"r\":3.8, \"mw\":122 },\n",
    "            \"HGLU\" :  { \"q\":0,  \"r\":3.8, \"mw\":122 },\n",
    "            \"LGLU\" :  { \"q\":2,  \"r\":3.8, \"mw\":122 },\n",
    "            \"HIS\"  :  { \"q\":0,  \"r\":3.9, \"mw\":130 },\n",
    "            \"HHIS\" :  { \"q\":1,  \"r\":3.9, \"mw\":130 },\n",
    "            \"NTR\"  :  { \"q\":0,  \"r\":2.0, \"mw\":14 },\n",
    "            \"HNTR\" :  { \"q\":1,  \"r\":2.0, \"mw\":14 },\n",
    "            \"TYR\"  :  { \"q\":-1, \"r\":4.1, \"mw\":154 },\n",
    "            \"HTYR\" :  { \"q\":0,  \"r\":4.1, \"mw\":154 },\n",
    "            \"LYS\"  :  { \"q\":0,  \"r\":3.7, \"mw\":116 },\n",
    "            \"HLYS\" :  { \"q\":1,  \"r\":3.7, \"mw\":116 },\n",
    "            \"CYb\"  :  { \"q\":0,  \"r\":3.6, \"mw\":103 },\n",
    "            \"CYS\"  :  { \"q\":-1, \"r\":3.6, \"mw\":103 },\n",
    "            \"HCYS\" :  { \"q\":0,  \"r\":3.6, \"mw\":103 },\n",
    "            \"ARG\"  :  { \"q\":0,  \"r\":4.0, \"mw\":144 },\n",
    "            \"HARG\" :  { \"q\":1,  \"r\":4.0, \"mw\":144 },\n",
    "            \"ALA\"  :  { \"q\":0,  \"r\":3.1, \"mw\":66 },\n",
    "            \"ILE\"  :  { \"q\":0,  \"r\":3.6, \"mw\":102 },\n",
    "            \"LEU\"  :  { \"q\":0,  \"r\":3.6, \"mw\":102 },\n",
    "            \"MET\"  :  { \"q\":0,  \"r\":3.8, \"mw\":122 },\n",
    "            \"PHE\"  :  { \"q\":0,  \"r\":3.9, \"mw\":138 },\n",
    "            \"PRO\"  :  { \"q\":0,  \"r\":3.4, \"mw\":90 },\n",
    "            \"TRP\"  :  { \"q\":0,  \"r\":4.3, \"mw\":176 },\n",
    "            \"VAL\"  :  { \"q\":0,  \"r\":3.4, \"mw\":90 },\n",
    "            \"SER\"  :  { \"q\":0,  \"r\":3.3, \"mw\":82 },\n",
    "            \"THR\"  :  { \"q\":0,  \"r\":3.5, \"mw\":94 },\n",
    "            \"ASN\"  :  { \"q\":0,  \"r\":3.6, \"mw\":108 },\n",
    "            \"GLN\"  :  { \"q\":0,  \"r\":3.8, \"mw\":120 },\n",
    "            \"GLY\"  :  { \"q\":0,  \"r\":2.9, \"mw\":54 }\n",
    "        },\n",
    "\n",
    "        \"processes\" : {\n",
    "            \"H-Asp\" : { \"bound\":\"HASP\" , \"free\":\"ASP\" , \"pKd\":4.0  , \"pX\":pH },\n",
    "            \"H-Ctr\" : { \"bound\":\"HCTR\" , \"free\":\"CTR\" , \"pKd\":2.6  , \"pX\":pH },\n",
    "            \"H-Glu\" : { \"bound\":\"HGLU\" , \"free\":\"GLU\" , \"pKd\":4.4  , \"pX\":pH },\n",
    "            \"H-His\" : { \"bound\":\"HHIS\" , \"free\":\"HIS\" , \"pKd\":6.3  , \"pX\":pH },\n",
    "            \"H-Arg\" : { \"bound\":\"HARG\" , \"free\":\"ARG\" , \"pKd\":12.0 , \"pX\":pH },\n",
    "            \"H-Ntr\" : { \"bound\":\"HNTR\" , \"free\":\"NTR\" , \"pKd\":7.5  , \"pX\":pH },\n",
    "            \"H-Cys\" : { \"bound\":\"HCYS\" , \"free\":\"CYS\" , \"pKd\":10.8 , \"pX\":pH },\n",
    "            \"H-Tyr\" : { \"bound\":\"HTYR\" , \"free\":\"TYR\" , \"pKd\":9.6  , \"pX\":pH },\n",
    "            \"H-Lys\" : { \"bound\":\"HLYS\" , \"free\":\"LYS\" , \"pKd\":10.4 , \"pX\":pH },\n",
    "            \"K1\"    : { \"bound\":\"NN\", \"free\":\"NF\",\"pKd\":7,  \"pX\":pH }\n",
    "        }\n",
    "    }\n",
    "\n",
    "    with open('gctit.json', 'w+') as f:\n",
    "        f.write(json.dumps(js, indent=4))\n",
    "\n",
    "for dptrans in dptrans_range:\n",
    "    if dptrans==0:\n",
    "        cyllength=100\n",
    "    else:\n",
    "        cyllength=150\n",
    "        \n",
    "    for pH in pH_range:\n",
    "        for salt in salt_range:\n",
    "            for macroion in macroion_range:\n",
    "                pfx='pH'+str(pH)+'-I'+str(salt)+'-'+macroion+'-dptrans'+str(dptrans)\n",
    "                macroion='../'+macroion\n",
    "                if not os.path.isdir(pfx):\n",
    "                    %mkdir -p $pfx \n",
    "                    %cd $pfx\n",
    "                    # equilibration run (no translation)\n",
    "                    !rm -fR state\n",
    "                    micro=50 * cyllength\n",
    "                    null=0\n",
    "                    dptrans, null = null, dptrans\n",
    "                    mkinput()\n",
    "                    dptrans, null = null, dptrans\n",
    "                    !../../faunus/src/examples/gctit > eq\n",
    "                    \n",
    "                    # production run\n",
    "                    micro=2000 * cyllength\n",
    "                    mkinput()\n",
    "                    %time !../../faunus/src/examples/gctit > out\n",
    "                    %cd ..\n",
    "%cd ..\n",
    "print('done.')"
   ]
  },
  {
   "cell_type": "markdown",
   "metadata": {},
   "source": [
    "### Potential of mean force"
   ]
  },
  {
   "cell_type": "code",
   "execution_count": 5,
   "metadata": {
    "collapsed": false
   },
   "outputs": [
    {
     "name": "stdout",
     "output_type": "stream",
     "text": [
      "/Users/mikael/github/faunus-notebooks/twobody/mc\n",
      "/Users/mikael/github/faunus-notebooks/twobody/mc/pH7.0-I0.03-N20-R10.0.pqr-dptrans3\n",
      "/Users/mikael/github/faunus-notebooks/twobody/mc\n",
      "/Users/mikael/github/faunus-notebooks/twobody/mc/pH7.0-I0.03-N20-R10.0-central.pqr-dptrans3\n",
      "/Users/mikael/github/faunus-notebooks/twobody/mc\n"
     ]
    },
    {
     "data": {
      "image/png": "[encoded data removed]",
      "text/plain": [
       "<matplotlib.figure.Figure at 0x104047210>"
      ]
     },
     "metadata": {},
     "output_type": "display_data"
    }
   ],
   "source": [
    "%cd $workdir'/mc'\n",
    "dptrans=3\n",
    "for pH in pH_range:\n",
    "    for salt in salt_range:\n",
    "        for macroion in macroion_range:\n",
    "            if 'central' in macroion:\n",
    "                color='r'\n",
    "            else:\n",
    "                color='b'\n",
    "            pfx='pH'+str(pH)+'-I'+str(salt)+'-'+macroion+'-dptrans'+str(dptrans)\n",
    "            if os.path.isdir(pfx):\n",
    "                %cd $pfx\n",
    "                r, P = np.loadtxt(\"rdf.dat\", unpack=True)\n",
    "                P = P / P[ (r>28) ].mean() # normalize to unity at long sep.\n",
    "                plt.plot(r, P, label=str(salt), c=color)\n",
    "                %cd ..\n",
    "\n",
    "import matplotlib.patches as mpatches\n",
    "red_patch = mpatches.Patch(color='r', label='Salt exclusion')\n",
    "blue_patch = mpatches.Patch(color='b', label='Salt penetration')\n",
    "\n",
    "plt.legend(loc=0, frameon=False, handles=[red_patch, blue_patch])\n",
    "plt.xlabel(r'$r$ (Å)')\n",
    "plt.ylabel(r'$g(r)$')\n",
    "#plt.ylim( (0, 20) )\n",
    "#plt.xlim( (0, 20) )\n",
    "plt.savefig('fig.pdf', bbox_inches='tight')"
   ]
  },
  {
   "cell_type": "markdown",
   "metadata": {},
   "source": [
    "### Plot macro-ion charge as a function of salt concentration for fixed separation (no macro-ion translation)"
   ]
  },
  {
   "cell_type": "code",
   "execution_count": 7,
   "metadata": {
    "collapsed": false
   },
   "outputs": [
    {
     "name": "stdout",
     "output_type": "stream",
     "text": [
      "/Users/mikael/github/faunus-notebooks/twobody/mc\n"
     ]
    },
    {
     "data": {
      "text/plain": [
       "<matplotlib.text.Text at 0x10dc46d90>"
      ]
     },
     "execution_count": 7,
     "metadata": {},
     "output_type": "execute_result"
    },
    {
     "data": {
      "image/png": "[encoded data removed]",
      "text/plain": [
       "<matplotlib.figure.Figure at 0x10aeae390>"
      ]
     },
     "metadata": {},
     "output_type": "display_data"
    }
   ],
   "source": [
    "%cd $workdir'/mc'\n",
    "\n",
    "# extract data into dict\n",
    "data={}\n",
    "dptrans=0\n",
    "for macroion in macroion_range:\n",
    "    data[macroion]=[]\n",
    "    for pH in pH_range:\n",
    "        for salt in salt_range:\n",
    "            pfx='pH'+str(pH)+'-I'+str(salt)+'-'+macroion+'-dptrans'+str(dptrans)\n",
    "            if os.path.isdir(pfx):\n",
    "                name=pfx+'/out'\n",
    "                Z = !cat {name} | grep -C 7 ' Multipole' | tail -n 1 | gawk '{{print $$2}}'\n",
    "                Z = float(Z[0])\n",
    "                C = !cat {name} | grep -C 7 ' Multipole' | tail -n 1 | gawk '{{print $$3}}'\n",
    "                C = float(C[0])\n",
    "                corr = !cat {name} | grep \"Charge product\"\n",
    "                corr = float(corr.s.split()[-1])\n",
    "                \n",
    "                qq = !cat {name} | grep \"Avg. charge\"\n",
    "                q1 = float(qq.s.split()[-3])\n",
    "                q2 = float(qq.s.split()[-2])\n",
    "                qq = float(qq.s.split()[-1])\n",
    "                print(q1, q2, qq, q1*q2-qq, corr)\n",
    "                data[macroion].append( [salt, qq] )\n",
    "\n",
    "# plot\n",
    "for macroion in macroion_range:\n",
    "    if 'central' in macroion:\n",
    "        color='r'\n",
    "    else:\n",
    "        color='b'\n",
    "\n",
    "    for d in data[macroion]:\n",
    "        plt.scatter(d[0], d[1], c=color, s=60)\n",
    "\n",
    "#plt.ylabel(r'$\\langle Z_1\\rangle \\langle Z_2 \\rangle - \\langle Z_1Z_2\\rangle$')\n",
    "plt.ylabel(r'$\\langle Z_1Z_2\\rangle$')\n",
    "plt.xlabel(r'$c_s$ (mol/l)')"
   ]
  },
  {
   "cell_type": "code",
   "execution_count": null,
   "metadata": {
    "collapsed": true
   },
   "outputs": [],
   "source": []
  }
 ],
 "metadata": {
  "kernelspec": {
   "display_name": "Python 2",
   "language": "python",
   "name": "python2"
  },
  "language_info": {
   "codemirror_mode": {
    "name": "ipython",
    "version": 2
   },
   "file_extension": ".py",
   "mimetype": "text/x-python",
   "name": "python",
   "nbconvert_exporter": "python",
   "pygments_lexer": "ipython2",
   "version": "2.7.11"
  }
 },
 "nbformat": 4,
 "nbformat_minor": 0
}
